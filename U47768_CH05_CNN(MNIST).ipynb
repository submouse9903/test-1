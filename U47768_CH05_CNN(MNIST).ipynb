{
  "nbformat": 4,
  "nbformat_minor": 0,
  "metadata": {
    "colab": {
      "provenance": [],
      "include_colab_link": true
    },
    "kernelspec": {
      "name": "python3",
      "display_name": "Python 3"
    },
    "language_info": {
      "name": "python"
    },
    "accelerator": "GPU",
    "gpuClass": "standard"
  },
  "cells": [
    {
      "cell_type": "markdown",
      "metadata": {
        "id": "view-in-github",
        "colab_type": "text"
      },
      "source": [
        "<a href=\"https://colab.research.google.com/github/submouse9903/test-1/blob/master/U47768_CH05_CNN(MNIST).ipynb\" target=\"_parent\"><img src=\"https://colab.research.google.com/assets/colab-badge.svg\" alt=\"Open In Colab\"/></a>"
      ]
    },
    {
      "cell_type": "code",
      "execution_count": null,
      "metadata": {
        "id": "pQm8v1zsccwY"
      },
      "outputs": [],
      "source": [
        "import torch \n",
        "import torch.nn as nn\n",
        "import torchvision\n",
        "import torchvision.transforms as transforms\n",
        "import matplotlib.pyplot as plt\n",
        "import numpy as np"
      ]
    },
    {
      "cell_type": "code",
      "source": [
        "train_dataset = torchvision.datasets.MNIST(root='./data', \n",
        "                                           train=True, \n",
        "                                           transform=transforms.ToTensor(),  \n",
        "                                           download=True)\n",
        "\n",
        "test_dataset = torchvision.datasets.MNIST(root='./data', \n",
        "                                          train=False, \n",
        "                                          transform=transforms.ToTensor())"
      ],
      "metadata": {
        "id": "UarI98xTcsjL",
        "colab": {
          "base_uri": "https://localhost:8080/"
        },
        "outputId": "6b53a08e-a097-41ec-d6ab-745d6c305bec"
      },
      "execution_count": null,
      "outputs": [
        {
          "output_type": "stream",
          "name": "stdout",
          "text": [
            "Downloading http://yann.lecun.com/exdb/mnist/train-images-idx3-ubyte.gz\n",
            "Downloading http://yann.lecun.com/exdb/mnist/train-images-idx3-ubyte.gz to ./data/MNIST/raw/train-images-idx3-ubyte.gz\n"
          ]
        },
        {
          "output_type": "stream",
          "name": "stderr",
          "text": [
            "100%|██████████| 9912422/9912422 [00:00<00:00, 343507235.58it/s]"
          ]
        },
        {
          "output_type": "stream",
          "name": "stdout",
          "text": [
            "Extracting ./data/MNIST/raw/train-images-idx3-ubyte.gz to ./data/MNIST/raw\n"
          ]
        },
        {
          "output_type": "stream",
          "name": "stderr",
          "text": [
            "\n"
          ]
        },
        {
          "output_type": "stream",
          "name": "stdout",
          "text": [
            "\n",
            "Downloading http://yann.lecun.com/exdb/mnist/train-labels-idx1-ubyte.gz\n",
            "Downloading http://yann.lecun.com/exdb/mnist/train-labels-idx1-ubyte.gz to ./data/MNIST/raw/train-labels-idx1-ubyte.gz\n"
          ]
        },
        {
          "output_type": "stream",
          "name": "stderr",
          "text": [
            "100%|██████████| 28881/28881 [00:00<00:00, 112370773.49it/s]\n"
          ]
        },
        {
          "output_type": "stream",
          "name": "stdout",
          "text": [
            "Extracting ./data/MNIST/raw/train-labels-idx1-ubyte.gz to ./data/MNIST/raw\n",
            "\n",
            "Downloading http://yann.lecun.com/exdb/mnist/t10k-images-idx3-ubyte.gz\n",
            "Downloading http://yann.lecun.com/exdb/mnist/t10k-images-idx3-ubyte.gz to ./data/MNIST/raw/t10k-images-idx3-ubyte.gz\n"
          ]
        },
        {
          "output_type": "stream",
          "name": "stderr",
          "text": [
            "100%|██████████| 1648877/1648877 [00:00<00:00, 232224955.39it/s]\n"
          ]
        },
        {
          "output_type": "stream",
          "name": "stdout",
          "text": [
            "Extracting ./data/MNIST/raw/t10k-images-idx3-ubyte.gz to ./data/MNIST/raw\n",
            "\n",
            "Downloading http://yann.lecun.com/exdb/mnist/t10k-labels-idx1-ubyte.gz\n",
            "Downloading http://yann.lecun.com/exdb/mnist/t10k-labels-idx1-ubyte.gz to ./data/MNIST/raw/t10k-labels-idx1-ubyte.gz\n"
          ]
        },
        {
          "output_type": "stream",
          "name": "stderr",
          "text": [
            "100%|██████████| 4542/4542 [00:00<00:00, 13030457.43it/s]"
          ]
        },
        {
          "output_type": "stream",
          "name": "stdout",
          "text": [
            "Extracting ./data/MNIST/raw/t10k-labels-idx1-ubyte.gz to ./data/MNIST/raw\n",
            "\n"
          ]
        },
        {
          "output_type": "stream",
          "name": "stderr",
          "text": [
            "\n"
          ]
        }
      ]
    },
    {
      "cell_type": "code",
      "source": [
        "i = 0\n",
        "image = train_dataset.data[i].float()/255\n",
        "label = train_dataset.targets[i]"
      ],
      "metadata": {
        "id": "QPa8wTZ0nYdH"
      },
      "execution_count": null,
      "outputs": []
    },
    {
      "cell_type": "code",
      "source": [
        "plt.imshow(image, cmap='gray')\n",
        "plt.title('Label: %d' % label)\n",
        "plt.show()"
      ],
      "metadata": {
        "colab": {
          "base_uri": "https://localhost:8080/",
          "height": 452
        },
        "id": "is-J2Dgznet6",
        "outputId": "1bcf0818-2e42-40ab-ede0-b3db508d5f18"
      },
      "execution_count": null,
      "outputs": [
        {
          "output_type": "display_data",
          "data": {
            "text/plain": [
              "<Figure size 640x480 with 1 Axes>"
            ],
            "image/png": "[encoded data removed]"
          },
          "metadata": {}
        }
      ]
    },
    {
      "cell_type": "code",
      "source": [
        "images = [train_dataset[i][0] for i in range(2)]\n",
        "# 타일 형식으로 이미지 시각화\n",
        "grid_img = torchvision.utils.make_grid(images, nrow=2, ncols = 1)\n",
        "plt.imshow(grid_img.permute(1, 2, 0))\n",
        "plt.show()"
      ],
      "metadata": {
        "colab": {
          "base_uri": "https://localhost:8080/",
          "height": 318
        },
        "id": "sPc_jhYjoRj8",
        "outputId": "bf6f033e-9710-4ede-d9b4-ac5949172012"
      },
      "execution_count": null,
      "outputs": [
        {
          "output_type": "display_data",
          "data": {
            "text/plain": [
              "<Figure size 640x480 with 1 Axes>"
            ],
            "image/png": "[encoded data removed]"
          },
          "metadata": {}
        }
      ]
    },
    {
      "cell_type": "markdown",
      "source": [
        "\n",
        "torchvision.utils.make_grid 함수가 흑백 이미지의 채널을 변화시켜서, (채널, 세로, 가로)이미지를 생성한다. 하지만 imshow 함수는 채널을 먼저 받을 수 없어서 (세로, 가로, 채널)로 데이터를 변화한다. permute 함수를 사용하여 텐서의 차원을 재배열함"
      ],
      "metadata": {
        "id": "76XC0GCcoyRf"
      }
    },
    {
      "cell_type": "code",
      "source": [
        "print(\"dataset:\",train_dataset[i][0].shape)\n",
        "grid_img = torchvision.utils.make_grid(images, nrow=5, ncols = 5)\n",
        "print(\"grid.img:\", grid_img.shape)\n",
        "print(\"permute image\", grid_img.permute(1, 2, 0).shape)"
      ],
      "metadata": {
        "colab": {
          "base_uri": "https://localhost:8080/"
        },
        "id": "fZkJ1-uco5Y-",
        "outputId": "4bca5b9f-96f7-47c0-8e25-bd94670439be"
      },
      "execution_count": null,
      "outputs": [
        {
          "output_type": "stream",
          "name": "stdout",
          "text": [
            "dataset: torch.Size([1, 28, 28])\n",
            "grid.img: torch.Size([3, 32, 62])\n",
            "permute image torch.Size([32, 62, 3])\n"
          ]
        }
      ]
    },
    {
      "cell_type": "code",
      "source": [
        "batchsize = 64\n",
        "train_loader = torch.utils.data.DataLoader(train_dataset, batchsize)"
      ],
      "metadata": {
        "id": "nVgrkjOIg_0U"
      },
      "execution_count": null,
      "outputs": []
    },
    {
      "cell_type": "code",
      "execution_count": null,
      "metadata": {
        "id": "Ryg8spZR00Vc"
      },
      "outputs": [],
      "source": [
        "x = train_dataset.data[0].float()/255\n",
        "x = x.reshape(1,28,28)"
      ]
    },
    {
      "cell_type": "code",
      "execution_count": null,
      "metadata": {
        "id": "g6KK9GB63YAy"
      },
      "outputs": [],
      "source": [
        "layer1 = nn.Sequential(nn.Conv2d(1, 32, kernel_size=3, stride=1, padding=1),\n",
        "                      nn.ReLU(),\n",
        "                      nn.MaxPool2d(kernel_size=2, stride=2))              "
      ]
    },
    {
      "cell_type": "code",
      "source": [
        "h1 = nn.Conv2d(1, 32, kernel_size=3, stride=1, padding=1)(x)\n",
        "h1.shape"
      ],
      "metadata": {
        "colab": {
          "base_uri": "https://localhost:8080/"
        },
        "id": "fSn0wqlND5WD",
        "outputId": "03ccfb82-27aa-43ed-e387-546c72e7dd21"
      },
      "execution_count": null,
      "outputs": [
        {
          "output_type": "execute_result",
          "data": {
            "text/plain": [
              "torch.Size([32, 28, 28])"
            ]
          },
          "metadata": {},
          "execution_count": 6
        }
      ]
    },
    {
      "cell_type": "code",
      "source": [
        "h1 = nn.ReLU()(h1)\n",
        "h1.shape"
      ],
      "metadata": {
        "colab": {
          "base_uri": "https://localhost:8080/"
        },
        "id": "keCD22iGEjef",
        "outputId": "e0fc7417-5f8b-48e6-b800-8decee6655c0"
      },
      "execution_count": null,
      "outputs": [
        {
          "output_type": "execute_result",
          "data": {
            "text/plain": [
              "torch.Size([32, 28, 28])"
            ]
          },
          "metadata": {},
          "execution_count": 7
        }
      ]
    },
    {
      "cell_type": "code",
      "source": [
        "h1 = nn.MaxPool2d(kernel_size = 2, stride = 2)(h1)\n",
        "h1.shape"
      ],
      "metadata": {
        "colab": {
          "base_uri": "https://localhost:8080/"
        },
        "id": "_xz2UT96Eqhq",
        "outputId": "45cef18c-e33e-4f9f-f376-8654bb52515d"
      },
      "execution_count": null,
      "outputs": [
        {
          "output_type": "execute_result",
          "data": {
            "text/plain": [
              "torch.Size([32, 14, 14])"
            ]
          },
          "metadata": {},
          "execution_count": 8
        }
      ]
    },
    {
      "cell_type": "code",
      "source": [
        "layer1 = nn.Sequential(nn.Conv2d(1, 32, kernel_size=3, stride=1, padding=1),\n",
        "                      nn.ReLU(),\n",
        "                      nn.MaxPool2d(kernel_size=2, stride=2))              \n",
        "h1 = layer1(x)\n",
        "h1.shape"
      ],
      "metadata": {
        "colab": {
          "base_uri": "https://localhost:8080/"
        },
        "id": "XPJvwU9aE9qy",
        "outputId": "55e09ddd-42d0-4c40-d199-fba916bd5e79"
      },
      "execution_count": null,
      "outputs": [
        {
          "output_type": "execute_result",
          "data": {
            "text/plain": [
              "torch.Size([32, 14, 14])"
            ]
          },
          "metadata": {},
          "execution_count": 9
        }
      ]
    },
    {
      "cell_type": "code",
      "source": [
        "layer2 = nn.Sequential(nn.Conv2d(32, 64, kernel_size=3, stride=1, padding=1),\n",
        "                      nn.ReLU(),\n",
        "                      nn.MaxPool2d(kernel_size=2, stride=2))         \n",
        "h2 = layer2(h1)     \n",
        "h2.shape"
      ],
      "metadata": {
        "colab": {
          "base_uri": "https://localhost:8080/"
        },
        "id": "ijugYRpwFJvz",
        "outputId": "9891c283-f315-40ae-9cf0-d2352ad6db6d"
      },
      "execution_count": null,
      "outputs": [
        {
          "output_type": "execute_result",
          "data": {
            "text/plain": [
              "torch.Size([64, 7, 7])"
            ]
          },
          "metadata": {},
          "execution_count": 10
        }
      ]
    },
    {
      "cell_type": "code",
      "source": [
        "layer3 = nn.Sequential(nn.Flatten(0,-1),\n",
        "                       nn.Linear(64*7*7,10),\n",
        "                       nn.Softmax(dim=0))\n",
        "output = layer3(h2)\n",
        "output.shape"
      ],
      "metadata": {
        "colab": {
          "base_uri": "https://localhost:8080/"
        },
        "id": "lWb8KhDkFgrh",
        "outputId": "73e4bffe-5a26-42e2-f794-0c1d510856be"
      },
      "execution_count": null,
      "outputs": [
        {
          "output_type": "execute_result",
          "data": {
            "text/plain": [
              "torch.Size([10])"
            ]
          },
          "metadata": {},
          "execution_count": 11
        }
      ]
    },
    {
      "cell_type": "code",
      "source": [
        "class MyNeuralNetwork(nn.Module):\n",
        "    def __init__(self):\n",
        "        super(MyNeuralNetwork, self).__init__()\n",
        "\n",
        "        self.layer1 = nn.Sequential(\n",
        "            nn.Conv2d(in_channels=1, out_channels=32, kernel_size=3, stride =1, padding= 1),\n",
        "            nn.ReLU(),\n",
        "            nn.MaxPool2d(kernel_size=2, stride=2)\n",
        "        )\n",
        "\n",
        "        self.layer2 = nn.Sequential(\n",
        "            nn.Conv2d(in_channels=32, out_channels=64, kernel_size=3, stride =1, padding= 1),\n",
        "            nn.ReLU(),\n",
        "            nn.MaxPool2d(kernel_size=2, stride=2)\n",
        "        )\n",
        "\n",
        "        self.layer3 = nn.Sequential(\n",
        "            nn.Linear(in_features=64*7*7, out_features=128, bias=True),\n",
        "            nn.ReLU(),\n",
        "            nn.Linear(in_features=128, out_features=64, bias=True),\n",
        "            nn.Sigmoid(),\n",
        "            nn.Linear(in_features=64, out_features=10, bias=True),\n",
        "            nn.Sigmoid(),\n",
        "            nn.Softmax(dim = 1)\n",
        "        )\n",
        "\n",
        "    def forward(self, x):\n",
        "        x = self.layer1(x)\n",
        "        x = self.layer2(x)\n",
        "        x = x.view(x.shape[0], -1)\n",
        "        x = self.layer3(x)\n",
        "        return x"
      ],
      "metadata": {
        "id": "3SeDtDrUJrRw"
      },
      "execution_count": null,
      "outputs": []
    },
    {
      "cell_type": "code",
      "source": [
        "model = MyNeuralNetwork()\n",
        "for i, (data, target) in enumerate(train_loader):\n",
        "  output = model(data)\n",
        "  if i==0:\n",
        "    break\n",
        "output[0]"
      ],
      "metadata": {
        "colab": {
          "base_uri": "https://localhost:8080/"
        },
        "id": "eoH40iUgKiyi",
        "outputId": "376f463c-53c9-4fb3-9cb5-4af51fff1690"
      },
      "execution_count": null,
      "outputs": [
        {
          "output_type": "execute_result",
          "data": {
            "text/plain": [
              "tensor([0.0916, 0.1030, 0.1101, 0.1056, 0.0971, 0.0922, 0.1066, 0.0998, 0.0935,\n",
              "        0.1004], grad_fn=<SelectBackward0>)"
            ]
          },
          "metadata": {},
          "execution_count": 28
        }
      ]
    },
    {
      "cell_type": "code",
      "source": [
        "device = 'cuda' if torch.cuda.is_available() else 'cpu'\n",
        "\n",
        "torch.manual_seed(1)\n",
        "if device == 'cuda':\n",
        "    torch.cuda.manual_seed_all(1)"
      ],
      "metadata": {
        "id": "Dl-IUPkWyBC6"
      },
      "execution_count": null,
      "outputs": []
    },
    {
      "cell_type": "code",
      "source": [
        "device"
      ],
      "metadata": {
        "colab": {
          "base_uri": "https://localhost:8080/",
          "height": 35
        },
        "id": "-huyFBa9yCoC",
        "outputId": "924a90e1-4e89-4491-ef8b-ac45eb9e93ce"
      },
      "execution_count": null,
      "outputs": [
        {
          "output_type": "execute_result",
          "data": {
            "text/plain": [
              "'cuda'"
            ],
            "application/vnd.google.colaboratory.intrinsic+json": {
              "type": "string"
            }
          },
          "metadata": {},
          "execution_count": 30
        }
      ]
    },
    {
      "cell_type": "code",
      "source": [
        "model = MyNeuralNetwork().to(device)\n"
      ],
      "metadata": {
        "id": "cHSGNpx7yUZ4"
      },
      "execution_count": null,
      "outputs": []
    },
    {
      "cell_type": "code",
      "execution_count": null,
      "metadata": {
        "id": "0tbFueiDHdvz"
      },
      "outputs": [],
      "source": [
        "learning_rate = 0.01\n",
        "optimizer = torch.optim.Adam(model.parameters(), lr=learning_rate)\n",
        "cross_entropy = nn.CrossEntropyLoss().to(device)  "
      ]
    },
    {
      "cell_type": "code",
      "execution_count": null,
      "metadata": {
        "colab": {
          "base_uri": "https://localhost:8080/"
        },
        "id": "ci7hNgG8HOvq",
        "outputId": "c9fce45e-6ee0-415a-cd42-b2d707ab8901"
      },
      "outputs": [
        {
          "output_type": "stream",
          "name": "stdout",
          "text": [
            "Accuracy: 0.9388\n",
            "Accuracy: 0.9733\n",
            "Accuracy: 0.9695\n",
            "Accuracy: 0.9622\n",
            "Accuracy: 0.9539\n",
            "Learning rate is updated\n",
            "Accuracy: 0.9737\n",
            "Accuracy: 0.9748\n",
            "Accuracy: 0.9753\n",
            "Accuracy: 0.9748\n",
            "Accuracy: 0.9768\n"
          ]
        }
      ],
      "source": [
        "num_B = 10\n",
        "loss_vec = np.zeros(num_B)\n",
        "optimizer.zero_grad()\n",
        "\n",
        "for i in range(num_B):\n",
        "  val_vec = []\n",
        "  if i == 5:\n",
        "    print(\"Learning rate is updated\")\n",
        "    optimizer = torch.optim.Adam(model.parameters(), lr=learning_rate/2)\n",
        "  for j, (data, target) in enumerate(train_loader):\n",
        "    data = data.to(device)\n",
        "    target = target.to(device)\n",
        "    output = model(data)\n",
        "    loss = cross_entropy(output, target)\n",
        "    optimizer.zero_grad()\n",
        "    loss.backward()\n",
        "    optimizer.step()\n",
        "    predicted = torch.max(output.data,1)\n",
        "    v =((predicted.indices == target).sum()).item()/len(target)\n",
        "    val_vec.append(v)\n",
        "  print (\"Accuracy: {:.4f}\".format(np.array(val_vec).mean()))"
      ]
    },
    {
      "cell_type": "code",
      "source": [
        "test_loader = torch.utils.data.DataLoader(test_dataset, batchsize)\n",
        "for i, (dataset, target) in enumerate(test_loader):\n",
        "  print(dataset[0,:,:,:].shape)\n",
        "  break\n",
        " \n"
      ],
      "metadata": {
        "id": "GRSKeSqu6wZ4",
        "colab": {
          "base_uri": "https://localhost:8080/"
        },
        "outputId": "17276e88-783a-4694-85d1-36fc2be6ce2b"
      },
      "execution_count": null,
      "outputs": [
        {
          "output_type": "stream",
          "name": "stdout",
          "text": [
            "torch.Size([1, 28, 28])\n"
          ]
        }
      ]
    },
    {
      "cell_type": "code",
      "source": [
        "v = 0\n",
        "for i, (dataset, target) in enumerate(test_loader):\n",
        "  X = dataset.to(device)\n",
        "  Y = target.to(device)\n",
        "  output = model(X)\n",
        "  predicted = torch.max(output.data,1)\n",
        "  v = v + ((predicted.indices == Y).sum()).item()\n",
        "print(v)"
      ],
      "metadata": {
        "colab": {
          "base_uri": "https://localhost:8080/"
        },
        "id": "LiDn1h5xLjyJ",
        "outputId": "8b6a2bce-9114-48a8-bd55-27150dc5fd47"
      },
      "execution_count": null,
      "outputs": [
        {
          "output_type": "stream",
          "name": "stdout",
          "text": [
            "9796\n"
          ]
        }
      ]
    },
    {
      "cell_type": "code",
      "source": [
        "\"Accuracy is {:.4f}%\".format(v/len(test_dataset.targets))"
      ],
      "metadata": {
        "colab": {
          "base_uri": "https://localhost:8080/",
          "height": 35
        },
        "id": "KstUog45633T",
        "outputId": "ec1e0f0e-6341-46cd-d436-1bad2faa8419"
      },
      "execution_count": null,
      "outputs": [
        {
          "output_type": "execute_result",
          "data": {
            "text/plain": [
              "'Accuracy is 0.9796%'"
            ],
            "application/vnd.google.colaboratory.intrinsic+json": {
              "type": "string"
            }
          },
          "metadata": {},
          "execution_count": 45
        }
      ]
    }
  ]
}