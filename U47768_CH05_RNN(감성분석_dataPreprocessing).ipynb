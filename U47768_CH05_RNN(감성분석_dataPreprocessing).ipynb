{
  "nbformat": 4,
  "nbformat_minor": 0,
  "metadata": {
    "colab": {
      "provenance": [],
      "include_colab_link": true
    },
    "kernelspec": {
      "name": "python3",
      "display_name": "Python 3"
    },
    "language_info": {
      "name": "python"
    }
  },
  "cells": [
    {
      "cell_type": "markdown",
      "metadata": {
        "id": "view-in-github",
        "colab_type": "text"
      },
      "source": [
        "<a href=\"https://colab.research.google.com/github/submouse9903/test-1/blob/master/U47768_CH05_RNN(%EA%B0%90%EC%84%B1%EB%B6%84%EC%84%9D_dataPreprocessing).ipynb\" target=\"_parent\"><img src=\"https://colab.research.google.com/assets/colab-badge.svg\" alt=\"Open In Colab\"/></a>"
      ]
    },
    {
      "cell_type": "code",
      "source": [],
      "metadata": {
        "id": "31rNUPfZwyzZ"
      },
      "execution_count": null,
      "outputs": []
    },
    {
      "cell_type": "markdown",
      "metadata": {
        "id": "Dc-SB-sESGLv"
      },
      "source": [
        "# RNN을 이용한 텍스트 분류(Text Classification)"
      ]
    },
    {
      "cell_type": "markdown",
      "metadata": {
        "id": "tcnRfutbR2i1"
      },
      "source": [
        "## 1) 영화 평점 데이터를 이용한 감성 분석 데이터 전처리\n",
        "\n",
        "영화 평가에 대한 텍스트 데이터(predictor)와 영화 평점 (response) 데이터 쌍을 이용하여 어떤 문장의 감성을 평가하는 데이터\n",
        "\n",
        "(참고) 데이터의 domain 이 영화평에 관련 된 것이기 때문에 학습된 모형을 텍스트의 감성분류에 일반화하여 적용할 수는 없다.\n",
        "\n",
        "### - 데이터\n",
        ": 이 실습에서 사용하는 데이터는 https://github.com/lih0905/korean-pytorch-sentiment-analysis 에 있는 영화 평점 데이터를 활용하였다."
      ]
    },
    {
      "cell_type": "code",
      "metadata": {
        "id": "qAbns-a8SD26",
        "colab": {
          "base_uri": "https://localhost:8080/"
        },
        "outputId": "e067b8af-41aa-46a3-aaf6-4eae27c36aa1"
      },
      "source": [
        "!pip install konlpy\n",
        "import pandas as pd \n",
        "import numpy as np\n",
        "import torch\n",
        "import torchtext\n",
        "from konlpy.tag import Okt\n",
        "import collections\n",
        "import matplotlib.pyplot as plt"
      ],
      "execution_count": null,
      "outputs": [
        {
          "output_type": "stream",
          "name": "stdout",
          "text": [
            "Looking in indexes: https://pypi.org/simple, https://us-python.pkg.dev/colab-wheels/public/simple/\n",
            "Collecting konlpy\n",
            "  Downloading konlpy-0.6.0-py2.py3-none-any.whl (19.4 MB)\n",
            "\u001b[2K     \u001b[90m━━━━━━━━━━━━━━━━━━━━━━━━━━━━━━━━━━━━━━━━\u001b[0m \u001b[32m19.4/19.4 MB\u001b[0m \u001b[31m38.5 MB/s\u001b[0m eta \u001b[36m0:00:00\u001b[0m\n",
            "\u001b[?25hCollecting JPype1>=0.7.0 (from konlpy)\n",
            "  Downloading JPype1-1.4.1-cp310-cp310-manylinux_2_12_x86_64.manylinux2010_x86_64.whl (465 kB)\n",
            "\u001b[2K     \u001b[90m━━━━━━━━━━━━━━━━━━━━━━━━━━━━━━━━━━━━━━\u001b[0m \u001b[32m465.3/465.3 kB\u001b[0m \u001b[31m33.4 MB/s\u001b[0m eta \u001b[36m0:00:00\u001b[0m\n",
            "\u001b[?25hRequirement already satisfied: lxml>=4.1.0 in /usr/local/lib/python3.10/dist-packages (from konlpy) (4.9.2)\n",
            "Requirement already satisfied: numpy>=1.6 in /usr/local/lib/python3.10/dist-packages (from konlpy) (1.22.4)\n",
            "Requirement already satisfied: packaging in /usr/local/lib/python3.10/dist-packages (from JPype1>=0.7.0->konlpy) (23.1)\n",
            "Installing collected packages: JPype1, konlpy\n",
            "Successfully installed JPype1-1.4.1 konlpy-0.6.0\n"
          ]
        }
      ]
    },
    {
      "cell_type": "markdown",
      "source": [
        "- 형태소 분석기 사용 실습"
      ],
      "metadata": {
        "id": "h2dsydLHU4_G"
      }
    },
    {
      "cell_type": "code",
      "source": [
        "okt=Okt()  \n",
        "text = \"형태소 분석를 사용하여 실습을 해 봅시다\"\n",
        "print(okt.morphs(text))\n",
        "print(okt.pos(text))  \n",
        "print(okt.nouns(text))  "
      ],
      "metadata": {
        "colab": {
          "base_uri": "https://localhost:8080/"
        },
        "id": "xdbgaQr5VaFo",
        "outputId": "27ff1610-0e09-4597-8eea-0caddd334669"
      },
      "execution_count": null,
      "outputs": [
        {
          "output_type": "stream",
          "name": "stdout",
          "text": [
            "['형태소', '분석', '를', '사용', '하여', '실습', '을', '해', '봅시다']\n",
            "[('형태소', 'Noun'), ('분석', 'Noun'), ('를', 'Noun'), ('사용', 'Noun'), ('하여', 'Verb'), ('실습', 'Noun'), ('을', 'Josa'), ('해', 'Noun'), ('봅시다', 'Verb')]\n",
            "['형태소', '분석', '를', '사용', '실습', '해']\n"
          ]
        }
      ]
    },
    {
      "cell_type": "code",
      "source": [
        "x = okt.morphs(text)\n",
        "type(x)"
      ],
      "metadata": {
        "colab": {
          "base_uri": "https://localhost:8080/"
        },
        "id": "RMfY8UpPVu3u",
        "outputId": "15d036e1-6321-481d-c435-e698f7764091"
      },
      "execution_count": null,
      "outputs": [
        {
          "output_type": "execute_result",
          "data": {
            "text/plain": [
              "list"
            ]
          },
          "metadata": {},
          "execution_count": 4
        }
      ]
    },
    {
      "cell_type": "markdown",
      "source": [
        "- 영화 평점 데이터를 불러봅시다. "
      ],
      "metadata": {
        "id": "LwSuqEXCV6g9"
      }
    },
    {
      "cell_type": "code",
      "source": [
        "train_data = pd.read_csv(\"http://ranking.uos.ac.kr/class/RB/rating_train.csv\")\n",
        "test_data = pd.read_csv(\"http://ranking.uos.ac.kr/class/RB/rating_test.csv\")"
      ],
      "metadata": {
        "id": "55Mjl5JuWFZb"
      },
      "execution_count": null,
      "outputs": []
    },
    {
      "cell_type": "code",
      "source": [
        "train_data.head()"
      ],
      "metadata": {
        "colab": {
          "base_uri": "https://localhost:8080/",
          "height": 267
        },
        "id": "Z90Ap068Wr64",
        "outputId": "95d97573-b745-4370-dce9-b012d4e9adee"
      },
      "execution_count": null,
      "outputs": [
        {
          "output_type": "execute_result",
          "data": {
            "text/plain": [
              "         id                                               text  label\n",
              "0   9976970                                아 더빙.. 진짜 짜증나네요 목소리      0\n",
              "1   3819312                  흠...포스터보고 초딩영화줄....오버연기조차 가볍지 않구나      1\n",
              "2  10265843                                  너무재밓었다그래서보는것을추천한다      0\n",
              "3   9045019                      교도소 이야기구먼 ..솔직히 재미는 없다..평점 조정      0\n",
              "4   6483659  사이몬페그의 익살스런 연기가 돋보였던 영화!스파이더맨에서 늙어보이기만 했던 커스틴 ...      1"
            ],
            "text/html": [
              "\n",
              "  <div id=\"df-1dfb6270-d4f3-4373-b846-ea65625384d4\">\n",
              "    <div class=\"colab-df-container\">\n",
              "      <div>\n",
              "<style scoped>\n",
              "    .dataframe tbody tr th:only-of-type {\n",
              "        vertical-align: middle;\n",
              "    }\n",
              "\n",
              "    .dataframe tbody tr th {\n",
              "        vertical-align: top;\n",
              "    }\n",
              "\n",
              "    .dataframe thead th {\n",
              "        text-align: right;\n",
              "    }\n",
              "</style>\n",
              "<table border=\"1\" class=\"dataframe\">\n",
              "  <thead>\n",
              "    <tr style=\"text-align: right;\">\n",
              "      <th></th>\n",
              "      <th>id</th>\n",
              "      <th>text</th>\n",
              "      <th>label</th>\n",
              "    </tr>\n",
              "  </thead>\n",
              "  <tbody>\n",
              "    <tr>\n",
              "      <th>0</th>\n",
              "      <td>9976970</td>\n",
              "      <td>아 더빙.. 진짜 짜증나네요 목소리</td>\n",
              "      <td>0</td>\n",
              "    </tr>\n",
              "    <tr>\n",
              "      <th>1</th>\n",
              "      <td>3819312</td>\n",
              "      <td>흠...포스터보고 초딩영화줄....오버연기조차 가볍지 않구나</td>\n",
              "      <td>1</td>\n",
              "    </tr>\n",
              "    <tr>\n",
              "      <th>2</th>\n",
              "      <td>10265843</td>\n",
              "      <td>너무재밓었다그래서보는것을추천한다</td>\n",
              "      <td>0</td>\n",
              "    </tr>\n",
              "    <tr>\n",
              "      <th>3</th>\n",
              "      <td>9045019</td>\n",
              "      <td>교도소 이야기구먼 ..솔직히 재미는 없다..평점 조정</td>\n",
              "      <td>0</td>\n",
              "    </tr>\n",
              "    <tr>\n",
              "      <th>4</th>\n",
              "      <td>6483659</td>\n",
              "      <td>사이몬페그의 익살스런 연기가 돋보였던 영화!스파이더맨에서 늙어보이기만 했던 커스틴 ...</td>\n",
              "      <td>1</td>\n",
              "    </tr>\n",
              "  </tbody>\n",
              "</table>\n",
              "</div>\n",
              "      <button class=\"colab-df-convert\" onclick=\"convertToInteractive('df-1dfb6270-d4f3-4373-b846-ea65625384d4')\"\n",
              "              title=\"Convert this dataframe to an interactive table.\"\n",
              "              style=\"display:none;\">\n",
              "        \n",
              "  <svg xmlns=\"http://www.w3.org/2000/svg\" height=\"24px\"viewBox=\"0 0 24 24\"\n",
              "       width=\"24px\">\n",
              "    <path d=\"M0 0h24v24H0V0z\" fill=\"none\"/>\n",
              "    <path d=\"M18.56 5.44l.94 2.06.94-2.06 2.06-.94-2.06-.94-.94-2.06-.94 2.06-2.06.94zm-11 1L8.5 8.5l.94-2.06 2.06-.94-2.06-.94L8.5 2.5l-.94 2.06-2.06.94zm10 10l.94 2.06.94-2.06 2.06-.94-2.06-.94-.94-2.06-.94 2.06-2.06.94z\"/><path d=\"M17.41 7.96l-1.37-1.37c-.4-.4-.92-.59-1.43-.59-.52 0-1.04.2-1.43.59L10.3 9.45l-7.72 7.72c-.78.78-.78 2.05 0 2.83L4 21.41c.39.39.9.59 1.41.59.51 0 1.02-.2 1.41-.59l7.78-7.78 2.81-2.81c.8-.78.8-2.07 0-2.86zM5.41 20L4 18.59l7.72-7.72 1.47 1.35L5.41 20z\"/>\n",
              "  </svg>\n",
              "      </button>\n",
              "      \n",
              "  <style>\n",
              "    .colab-df-container {\n",
              "      display:flex;\n",
              "      flex-wrap:wrap;\n",
              "      gap: 12px;\n",
              "    }\n",
              "\n",
              "    .colab-df-convert {\n",
              "      background-color: #E8F0FE;\n",
              "      border: none;\n",
              "      border-radius: 50%;\n",
              "      cursor: pointer;\n",
              "      display: none;\n",
              "      fill: #1967D2;\n",
              "      height: 32px;\n",
              "      padding: 0 0 0 0;\n",
              "      width: 32px;\n",
              "    }\n",
              "\n",
              "    .colab-df-convert:hover {\n",
              "      background-color: #E2EBFA;\n",
              "      box-shadow: 0px 1px 2px rgba(60, 64, 67, 0.3), 0px 1px 3px 1px rgba(60, 64, 67, 0.15);\n",
              "      fill: #174EA6;\n",
              "    }\n",
              "\n",
              "    [theme=dark] .colab-df-convert {\n",
              "      background-color: #3B4455;\n",
              "      fill: #D2E3FC;\n",
              "    }\n",
              "\n",
              "    [theme=dark] .colab-df-convert:hover {\n",
              "      background-color: #434B5C;\n",
              "      box-shadow: 0px 1px 3px 1px rgba(0, 0, 0, 0.15);\n",
              "      filter: drop-shadow(0px 1px 2px rgba(0, 0, 0, 0.3));\n",
              "      fill: #FFFFFF;\n",
              "    }\n",
              "  </style>\n",
              "\n",
              "      <script>\n",
              "        const buttonEl =\n",
              "          document.querySelector('#df-1dfb6270-d4f3-4373-b846-ea65625384d4 button.colab-df-convert');\n",
              "        buttonEl.style.display =\n",
              "          google.colab.kernel.accessAllowed ? 'block' : 'none';\n",
              "\n",
              "        async function convertToInteractive(key) {\n",
              "          const element = document.querySelector('#df-1dfb6270-d4f3-4373-b846-ea65625384d4');\n",
              "          const dataTable =\n",
              "            await google.colab.kernel.invokeFunction('convertToInteractive',\n",
              "                                                     [key], {});\n",
              "          if (!dataTable) return;\n",
              "\n",
              "          const docLinkHtml = 'Like what you see? Visit the ' +\n",
              "            '<a target=\"_blank\" href=https://colab.research.google.com/notebooks/data_table.ipynb>data table notebook</a>'\n",
              "            + ' to learn more about interactive tables.';\n",
              "          element.innerHTML = '';\n",
              "          dataTable['output_type'] = 'display_data';\n",
              "          await google.colab.output.renderOutput(dataTable, element);\n",
              "          const docLink = document.createElement('div');\n",
              "          docLink.innerHTML = docLinkHtml;\n",
              "          element.appendChild(docLink);\n",
              "        }\n",
              "      </script>\n",
              "    </div>\n",
              "  </div>\n",
              "  "
            ]
          },
          "metadata": {},
          "execution_count": 6
        }
      ]
    },
    {
      "cell_type": "code",
      "source": [
        "text = train_data[\"text\"][0]\n",
        "okt.morphs(text)"
      ],
      "metadata": {
        "colab": {
          "base_uri": "https://localhost:8080/"
        },
        "id": "n-shfFggWnEB",
        "outputId": "fa083830-a66b-41cc-fed3-1beba8a3a829"
      },
      "execution_count": null,
      "outputs": [
        {
          "output_type": "execute_result",
          "data": {
            "text/plain": [
              "['아', '더빙', '..', '진짜', '짜증나네요', '목소리']"
            ]
          },
          "metadata": {},
          "execution_count": 7
        }
      ]
    },
    {
      "cell_type": "markdown",
      "source": [
        "- collections 모듈에 있는 defaultdict 을 이용하여 word (token)의 개수를 센다.\n",
        "- defaultdict 의 원래기능은 dictionary 를 초기화 하는 것인데 key를 통해 값을 호출할 때 초기값을 가지고 있다는 점이 다르다. "
      ],
      "metadata": {
        "id": "nFm-jNhbXisE"
      }
    },
    {
      "cell_type": "code",
      "source": [
        "morph_counter = collections.defaultdict(int)\n",
        "print(\"morph_counter는 초기화 된 상태로 어떠한 key 도 없습니다.\")\n",
        "print(morph_counter[\"unknown_key\"])"
      ],
      "metadata": {
        "colab": {
          "base_uri": "https://localhost:8080/"
        },
        "id": "XRDkUKf84p_s",
        "outputId": "d77fb0cd-fe1a-4c5f-9fda-53c2b1a073d0"
      },
      "execution_count": null,
      "outputs": [
        {
          "output_type": "stream",
          "name": "stdout",
          "text": [
            "morph_counter는 초기화 된 상태로 어떠한 key 도 없습니다.\n",
            "0\n"
          ]
        }
      ]
    },
    {
      "cell_type": "code",
      "source": [
        "morph_counter[\"형태소 원소\"] =+1\n",
        "morph_counter"
      ],
      "metadata": {
        "colab": {
          "base_uri": "https://localhost:8080/"
        },
        "id": "HFqrjTni5j2M",
        "outputId": "df031164-8014-42ff-afc0-d29907fb10ce"
      },
      "execution_count": null,
      "outputs": [
        {
          "output_type": "execute_result",
          "data": {
            "text/plain": [
              "defaultdict(int, {'unknown_key': 0, '형태소 원소': 1})"
            ]
          },
          "metadata": {},
          "execution_count": 9
        }
      ]
    },
    {
      "cell_type": "code",
      "metadata": {
        "colab": {
          "base_uri": "https://localhost:8080/"
        },
        "id": "-I8ruCnLSgpy",
        "outputId": "d306b0c2-3f16-4ef4-ec40-7fb42004d23d"
      },
      "source": [
        "from tqdm import tqdm \n",
        "morph_counter = collections.defaultdict(int)\n",
        "text_line = train_data[\"text\"]\n",
        "for text in tqdm(text_line):\n",
        "  for m in okt.morphs(text):\n",
        "    morph_counter[m] += 1"
      ],
      "execution_count": null,
      "outputs": [
        {
          "output_type": "stream",
          "name": "stderr",
          "text": [
            "100%|██████████| 149995/149995 [08:10<00:00, 305.57it/s]\n"
          ]
        }
      ]
    },
    {
      "cell_type": "markdown",
      "source": [
        "- 빈도수가 높은 토큰 확인"
      ],
      "metadata": {
        "id": "RYENkq6Y6rT3"
      }
    },
    {
      "cell_type": "code",
      "source": [
        "most_freq = sorted(morph_counter.items(), key=lambda item: item[1], reverse=True)\n",
        "print(most_freq[:10])"
      ],
      "metadata": {
        "id": "8VsxHP1YhGi1",
        "colab": {
          "base_uri": "https://localhost:8080/"
        },
        "outputId": "ffce1342-dead-41a4-b07d-58c753645c59"
      },
      "execution_count": null,
      "outputs": [
        {
          "output_type": "stream",
          "name": "stdout",
          "text": [
            "[('.', 67784), ('이', 56108), ('영화', 50737), ('의', 30963), ('..', 29058), ('가', 27571), ('에', 26772), ('을', 23237), ('...', 22801), ('도', 21426)]\n"
          ]
        }
      ]
    },
    {
      "cell_type": "code",
      "source": [
        "label_vec = [j for (j,k) in most_freq]\n",
        "freq_vec = [k for (j,k) in most_freq]"
      ],
      "metadata": {
        "id": "bu4F1lIcAdR2"
      },
      "execution_count": null,
      "outputs": []
    },
    {
      "cell_type": "code",
      "source": [
        "plt.style.use('ggplot')\n",
        "plt.plot(np.log(freq_vec))"
      ],
      "metadata": {
        "colab": {
          "base_uri": "https://localhost:8080/",
          "height": 448
        },
        "id": "v5PicB7MFAjK",
        "outputId": "87407ade-6733-453c-dd9b-9d922340e3dc"
      },
      "execution_count": null,
      "outputs": [
        {
          "output_type": "execute_result",
          "data": {
            "text/plain": [
              "[<matplotlib.lines.Line2D at 0x7f2e655b4c10>]"
            ]
          },
          "metadata": {},
          "execution_count": 14
        },
        {
          "output_type": "display_data",
          "data": {
            "text/plain": [
              "<Figure size 640x480 with 1 Axes>"
            ],
            "image/png": "[encoded data removed]"
          },
          "metadata": {}
        }
      ]
    },
    {
      "cell_type": "markdown",
      "source": [
        "- cut_value 를 정하기 위한 분석: cut_value를 잡았을 때 몇개의 unique word 가 남는지 계산한다.\n",
        "- freq_vec 은 단어별로 빈도수를 가지고 있기 때문에 빈도수의 값을 범주형 변수로 보고 그것의 빈도를 계산하면, 빈도 수가 $k$인 unique word 의 개수를 알 수 있다. \n",
        "- cut_value 에 따른 unique word 의 누적합을 계산한다.\n"
      ],
      "metadata": {
        "id": "jBYOhUCXAnSw"
      }
    },
    {
      "cell_type": "code",
      "source": [
        "# 빈도가 k개인 단어의 개수\n",
        "freq_pd = pd.DataFrame(freq_vec)\n",
        "freq_pd = freq_pd.value_counts()\n",
        "print(\"단어의 전체수:\", freq_pd.sum())\n",
        "print(\"빈도가 k개인 단어의 개수:\\n\", freq_pd)"
      ],
      "metadata": {
        "colab": {
          "base_uri": "https://localhost:8080/"
        },
        "id": "SMmnf7gl5wzB",
        "outputId": "82788af8-d210-4d72-ccb4-c3d6ce2c6df7"
      },
      "execution_count": null,
      "outputs": [
        {
          "output_type": "execute_result",
          "data": {
            "text/plain": [
              "1        57087\n",
              "2        13814\n",
              "3         6848\n",
              "4         4100\n",
              "5         2854\n",
              "         ...  \n",
              "764          1\n",
              "760          1\n",
              "759          1\n",
              "748          1\n",
              "67784        1\n",
              "Length: 897, dtype: int64"
            ]
          },
          "metadata": {},
          "execution_count": 17
        }
      ]
    },
    {
      "cell_type": "code",
      "source": [
        "# freq_pd의 index 가 내림차순으로 정렬되지 않았기 때문에 다음과 같이 정렬한다. \n",
        "freq_index = np.array([freq_pd.index[i][0] for i in range(len(freq_pd))])\n",
        "idx = np.argsort(freq_index)\n",
        "freq_pd_idx = np.sort(freq_index)\n",
        "freq_pd_v = np.array([freq_pd.iloc[idx[i]] for i in range(len(idx))])\n",
        "v = freq_pd.sum() - freq_pd_v.cumsum()\n",
        "plt.plot(freq_pd_idx, v)\n",
        "plt.xlabel(\"cut_value\")\n",
        "plt.xlim(0,10)"
      ],
      "metadata": {
        "colab": {
          "base_uri": "https://localhost:8080/",
          "height": 472
        },
        "id": "QfPBStWsBhQg",
        "outputId": "eb0955aa-680b-43e4-d67a-b7bc23fa5534"
      },
      "execution_count": null,
      "outputs": [
        {
          "output_type": "execute_result",
          "data": {
            "text/plain": [
              "(0.0, 10.0)"
            ]
          },
          "metadata": {},
          "execution_count": 18
        },
        {
          "output_type": "display_data",
          "data": {
            "text/plain": [
              "<Figure size 640x480 with 1 Axes>"
            ],
            "image/png": "[encoded data removed]"
          },
          "metadata": {}
        }
      ]
    },
    {
      "cell_type": "markdown",
      "source": [
        "- word cnt 가 cut_value 보다 작은 토큰들을 제거한다. dict에서 제거하기 위해서 dict를 하나 복사하여 거기에 있는 값을 이용한다. 이는 반복문을 사용하면서 dict를 같이 변환할 수 없기 때문이다. \n",
        "- copy 를 새로운 객체를 생성하는 것이 중요하다. (값이 같이 변화하면 안됨) 예를 들어 morph_counter_copy = morph_counter 로 정의한 morph_counter_copy 는 같은 메모리를 참조하기 때문에 morph_counter의 원소를 지우면 해당 위치의 morph_counter_copy 원소도 같이 지워진다. "
      ],
      "metadata": {
        "id": "AJp-1qfsHz8D"
      }
    },
    {
      "cell_type": "code",
      "source": [
        "print(\"전처리 전:\", len(morph_counter))\n",
        "cut_value = 4\n",
        "morph_counter_copy = morph_counter.copy()\n",
        "for key, value in morph_counter_copy.items():\n",
        "  if (value<=cut_value):\n",
        "    del morph_counter[key]\n",
        "print(\"전처리 후:\", len(morph_counter))"
      ],
      "metadata": {
        "colab": {
          "base_uri": "https://localhost:8080/"
        },
        "id": "9UOPPAK9FO6y",
        "outputId": "0da3046d-4fed-4cbe-f394-bf6f8982692d"
      },
      "execution_count": null,
      "outputs": [
        {
          "output_type": "stream",
          "name": "stdout",
          "text": [
            "전처리 전: 20617\n",
            "전처리 후: 20617\n"
          ]
        }
      ]
    },
    {
      "cell_type": "markdown",
      "source": [
        "- 형태소-id 가 대응되는 vocabulary 를 만든다."
      ],
      "metadata": {
        "id": "lSKG2-dC7teJ"
      }
    },
    {
      "cell_type": "code",
      "source": [
        "morph_to_id = {'[PAD]': 0, '[UNK]': 1}\n",
        "for w, cnt in morph_counter.items():\n",
        "    morph_to_id[w] = len(morph_to_id)\n",
        "print(len(morph_to_id))"
      ],
      "metadata": {
        "id": "x-ZG4r5hhLmA",
        "colab": {
          "base_uri": "https://localhost:8080/",
          "height": 223
        },
        "outputId": "13f149ae-34cf-4a65-a6a9-da7064604b13"
      },
      "execution_count": null,
      "outputs": [
        {
          "output_type": "error",
          "ename": "NameError",
          "evalue": "ignored",
          "traceback": [
            "\u001b[0;31m---------------------------------------------------------------------------\u001b[0m",
            "\u001b[0;31mNameError\u001b[0m                                 Traceback (most recent call last)",
            "\u001b[0;32m<ipython-input-1-57b4fc937ef4>\u001b[0m in \u001b[0;36m<cell line: 2>\u001b[0;34m()\u001b[0m\n\u001b[1;32m      1\u001b[0m \u001b[0mmorph_to_id\u001b[0m \u001b[0;34m=\u001b[0m \u001b[0;34m{\u001b[0m\u001b[0;34m'[PAD]'\u001b[0m\u001b[0;34m:\u001b[0m \u001b[0;36m0\u001b[0m\u001b[0;34m,\u001b[0m \u001b[0;34m'[UNK]'\u001b[0m\u001b[0;34m:\u001b[0m \u001b[0;36m1\u001b[0m\u001b[0;34m,\u001b[0m \u001b[0;34m'[SOS]'\u001b[0m\u001b[0;34m:\u001b[0m \u001b[0;36m2\u001b[0m\u001b[0;34m,\u001b[0m \u001b[0;34m'[EOS]'\u001b[0m\u001b[0;34m:\u001b[0m \u001b[0;36m3\u001b[0m\u001b[0;34m}\u001b[0m\u001b[0;34m\u001b[0m\u001b[0;34m\u001b[0m\u001b[0m\n\u001b[0;32m----> 2\u001b[0;31m \u001b[0;32mfor\u001b[0m \u001b[0mw\u001b[0m\u001b[0;34m,\u001b[0m \u001b[0mcnt\u001b[0m \u001b[0;32min\u001b[0m \u001b[0mmorph_counter\u001b[0m\u001b[0;34m.\u001b[0m\u001b[0mitems\u001b[0m\u001b[0;34m(\u001b[0m\u001b[0;34m)\u001b[0m\u001b[0;34m:\u001b[0m\u001b[0;34m\u001b[0m\u001b[0;34m\u001b[0m\u001b[0m\n\u001b[0m\u001b[1;32m      3\u001b[0m     \u001b[0mmorph_to_id\u001b[0m\u001b[0;34m[\u001b[0m\u001b[0mw\u001b[0m\u001b[0;34m]\u001b[0m \u001b[0;34m=\u001b[0m \u001b[0mlen\u001b[0m\u001b[0;34m(\u001b[0m\u001b[0mmorph_to_id\u001b[0m\u001b[0;34m)\u001b[0m\u001b[0;34m\u001b[0m\u001b[0;34m\u001b[0m\u001b[0m\n\u001b[1;32m      4\u001b[0m \u001b[0mprint\u001b[0m\u001b[0;34m(\u001b[0m\u001b[0mlen\u001b[0m\u001b[0;34m(\u001b[0m\u001b[0mmorph_to_id\u001b[0m\u001b[0;34m)\u001b[0m\u001b[0;34m)\u001b[0m\u001b[0;34m\u001b[0m\u001b[0;34m\u001b[0m\u001b[0m\n",
            "\u001b[0;31mNameError\u001b[0m: name 'morph_counter' is not defined"
          ]
        }
      ]
    },
    {
      "cell_type": "markdown",
      "source": [
        "- id-형태소가 대응되는 vocabulary 를 만든다."
      ],
      "metadata": {
        "id": "pubkaMjm89kO"
      }
    },
    {
      "cell_type": "code",
      "source": [
        "id_to_morph = {}\n",
        "for w, idx in morph_to_id.items():\n",
        "  id_to_morph[idx] = w\n",
        "print(len(id_to_morph))  "
      ],
      "metadata": {
        "colab": {
          "base_uri": "https://localhost:8080/"
        },
        "id": "8tPAD-ee9rwn",
        "outputId": "a710fb33-019d-4ab5-de0a-dd648cc3ae79"
      },
      "execution_count": null,
      "outputs": [
        {
          "output_type": "execute_result",
          "data": {
            "text/plain": [
              "{0: '[PAD]',\n",
              " 1: '[UNK]',\n",
              " 2: '짜증나네요',\n",
              " 3: '가볍지',\n",
              " 4: '무재',\n",
              " 5: '다그',\n",
              " 6: '래서',\n",
              " 7: '보는것을',\n",
              " 8: '교도소',\n",
              " 9: '구먼',\n",
              " 10: '조정',\n",
              " 11: '돋보였던',\n",
              " 12: '스파이더맨',\n",
              " 13: '늙어',\n",
              " 14: '이뻐',\n",
              " 15: '보였다',\n",
              " 16: '걸음',\n",
              " 17: '생인',\n",
              " 18: '이응경',\n",
              " 19: '납치',\n",
              " 20: '감금',\n",
              " 21: '없는데도',\n",
              " 22: '인피니트',\n",
              " 23: '죽겠다',\n",
              " 24: '향수',\n",
              " 25: '허진호',\n",
              " 26: '절제',\n",
              " 27: '달인',\n",
              " 28: '울면',\n",
              " 29: '뛰',\n",
              " 30: '이범수',\n",
              " 31: '담백하고',\n",
              " 32: '깔끔해서',\n",
              " 33: '이었다는',\n",
              " 34: '존중',\n",
              " 35: '다지',\n",
              " 36: '어거지',\n",
              " 37: '매번',\n",
              " 38: '재밋음',\n",
              " 39: '웃긴게',\n",
              " 40: '바스코',\n",
              " 41: '락스',\n",
              " 42: '까고',\n",
              " 43: '바비',\n",
              " 44: '안달',\n",
              " 45: '굿바이',\n",
              " 46: '레닌',\n",
              " 47: '깨알',\n",
              " 48: '산뜻한',\n",
              " 49: '용구성',\n",
              " 50: '일드',\n",
              " 51: '변명',\n",
              " 52: '심오한',\n",
              " 53: '선생',\n",
              " 54: '놀아나는',\n",
              " 55: '웃지',\n",
              " 56: '불가능하다',\n",
              " 57: '음식',\n",
              " 58: '만찬',\n",
              " 59: '핀란드',\n",
              " 60: '납득',\n",
              " 61: '꺼야',\n",
              " 62: 'g',\n",
              " 63: '고추',\n",
              " 64: '버려야',\n",
              " 65: '할텐데',\n",
              " 66: '카밀라',\n",
              " 67: '벨',\n",
              " 68: '센스',\n",
              " 69: '탁월한',\n",
              " 70: '위력',\n",
              " 71: '꽃',\n",
              " 72: '검사',\n",
              " 73: '졸',\n",
              " 74: '됌',\n",
              " 75: '1%',\n",
              " 76: '기대했던',\n",
              " 77: '죄인',\n",
              " 78: '패션',\n",
              " 79: '윈',\n",
              " 80: '투어',\n",
              " 81: '키이라',\n",
              " 82: '나이틀리',\n",
              " 83: '했던건',\n",
              " 84: '허허',\n",
              " 85: '나간',\n",
              " 86: '유령',\n",
              " 87: '보이는데',\n",
              " 88: '받는지',\n",
              " 89: '은은한',\n",
              " 90: '알바생',\n",
              " 91: '싱거운',\n",
              " 92: '낚임',\n",
              " 93: '오게',\n",
              " 94: '서리',\n",
              " 95: '들어요',\n",
              " 96: '보고싶은데',\n",
              " 97: 'ㅜㅡ',\n",
              " 98: '윤제문',\n",
              " 99: '됐어요',\n",
              " 100: '소소한',\n",
              " 101: '탈',\n",
              " 102: '머금',\n",
              " 103: '올리고',\n",
              " 104: '싶어',\n",
              " 105: '속지',\n",
              " 106: '리얼리티',\n",
              " 107: '이민기',\n",
              " 108: '분노조절',\n",
              " 109: '장애',\n",
              " 110: '초기',\n",
              " 111: '툭하면',\n",
              " 112: '물건',\n",
              " 113: '신선했는데',\n",
              " 114: '없냐',\n",
              " 115: '뮤비',\n",
              " 116: '만들라고',\n",
              " 117: '리스',\n",
              " 118: '타르',\n",
              " 119: '용의',\n",
              " 120: '주인',\n",
              " 121: '누',\n",
              " 122: '근친상간',\n",
              " 123: '메',\n",
              " 124: '니스',\n",
              " 125: '드래곤',\n",
              " 126: '멋지네',\n",
              " 127: '토르',\n",
              " 128: '다크',\n",
              " 129: '월드',\n",
              " 130: '있군요',\n",
              " 131: '거친',\n",
              " 132: '상사',\n",
              " 133: '잠시',\n",
              " 134: '잊고',\n",
              " 135: '세르게이',\n",
              " 136: '매운',\n",
              " 137: '저그',\n",
              " 138: '콩',\n",
              " 139: '진호',\n",
              " 140: '시리',\n",
              " 141: '난또',\n",
              " 142: '애가',\n",
              " 143: '원한',\n",
              " 144: '.,.',\n",
              " 145: '했더니',\n",
              " 146: '어쩌라고',\n",
              " 147: '활',\n",
              " 148: '이라고는',\n",
              " 149: '무거운',\n",
              " 150: '지독하고',\n",
              " 151: '차갑고',\n",
              " 152: '일본인',\n",
              " 153: '대단한거',\n",
              " 154: '같다는',\n",
              " 155: '심심한',\n",
              " 156: '나오나요',\n",
              " 157: '들어맞는',\n",
              " 158: '예측',\n",
              " 159: '당황',\n",
              " 160: '아무튼',\n",
              " 161: '평범함',\n",
              " 162: '녹아든',\n",
              " 163: '보고있는데',\n",
              " 164: '느리고',\n",
              " 165: '은희',\n",
              " 166: '한두',\n",
              " 167: '컷',\n",
              " 168: '나오면서',\n",
              " 169: '극적',\n",
              " 170: '끝나나',\n",
              " 171: '대만',\n",
              " 172: '가슴속',\n",
              " 173: '현대',\n",
              " 174: '사의',\n",
              " 175: '단면',\n",
              " 176: '사죄',\n",
              " 177: '잡기',\n",
              " 178: '듣던',\n",
              " 179: '보도',\n",
              " 180: '민간인',\n",
              " 181: '학살',\n",
              " 182: '명백한',\n",
              " 183: '살인자',\n",
              " 184: '있나요',\n",
              " 185: '재탕',\n",
              " 186: '탕',\n",
              " 187: '사골',\n",
              " 188: '먹듯',\n",
              " 189: '120',\n",
              " 190: '부작',\n",
              " 191: '김남길',\n",
              " 192: '손예진',\n",
              " 193: '보신',\n",
              " 194: '재미있을',\n",
              " 195: '노래실력',\n",
              " 196: '맞냐',\n",
              " 197: '박시환',\n",
              " 198: '나가면',\n",
              " 199: '망신',\n",
              " 200: '이틀',\n",
              " 201: '넣어',\n",
              " 202: '안이',\n",
              " 203: '활짝',\n",
              " 204: '아무나',\n",
              " 205: '문자',\n",
              " 206: '재밋네',\n",
              " 207: '달팽이',\n",
              " 208: '부패한',\n",
              " 209: '기리',\n",
              " 210: '뭣같',\n",
              " 211: '온몸',\n",
              " 212: '러시아',\n",
              " 213: '민중',\n",
              " 214: '폭도',\n",
              " 215: '무난',\n",
              " 216: '화해',\n",
              " 217: '남발',\n",
              " 218: '뻔하지',\n",
              " 219: '3분',\n",
              " 220: '나왔다',\n",
              " 221: '할수있지',\n",
              " 222: '럼',\n",
              " 223: '하는지도',\n",
              " 224: '진창',\n",
              " 225: '우뢰매',\n",
              " 226: '내일',\n",
              " 227: '`',\n",
              " 228: '조미',\n",
              " 229: '골',\n",
              " 230: '때리네',\n",
              " 231: '되라',\n",
              " 232: '서기',\n",
              " 233: '이뻐서',\n",
              " 234: '인공',\n",
              " 235: '클라라',\n",
              " 236: '볼라',\n",
              " 237: '화신',\n",
              " 238: '슬펐던',\n",
              " 239: '메인',\n",
              " 240: '나오는게',\n",
              " 241: '마코토',\n",
              " 242: '작화',\n",
              " 243: '해줘서',\n",
              " 244: '잔잔한게',\n",
              " 245: '쓰면',\n",
              " 246: '않았고',\n",
              " 247: '억지스럽고',\n",
              " 248: '노골',\n",
              " 249: '어땠을까',\n",
              " 250: '떠오르는',\n",
              " 251: '빠져서',\n",
              " 252: '하던데',\n",
              " 253: '태어나서',\n",
              " 254: '나왔습니다',\n",
              " 255: '짬뽕',\n",
              " 256: '믹스',\n",
              " 257: '했구나',\n",
              " 258: '음향',\n",
              " 259: '무섭게',\n",
              " 260: '하아',\n",
              " 261: '패널',\n",
              " 262: '가구',\n",
              " 263: '하는거지',\n",
              " 264: '망치',\n",
              " 265: '이상해',\n",
              " 266: '몬스터',\n",
              " 267: '주식회사',\n",
              " 268: '느리다',\n",
              " 269: '안되는군',\n",
              " 270: '중국인',\n",
              " 271: '허풍',\n",
              " 272: '보이려고',\n",
              " 273: '고증',\n",
              " 274: '거북',\n",
              " 275: '과대',\n",
              " 276: '불법체류자',\n",
              " 277: '때려',\n",
              " 278: '잡는',\n",
              " 279: '좋았을텐데',\n",
              " 280: '만든다고',\n",
              " 281: '뭥미',\n",
              " 282: '2년',\n",
              " 283: '삶속',\n",
              " 284: '드러난',\n",
              " 285: '가자',\n",
              " 286: '본지',\n",
              " 287: '재미있었음',\n",
              " 288: '...;;;',\n",
              " 289: '지나',\n",
              " 290: '숀펜',\n",
              " 291: '甲',\n",
              " 292: '올레',\n",
              " 293: '있길래',\n",
              " 294: '어울리지',\n",
              " 295: '상대',\n",
              " 296: '노는거',\n",
              " 297: '라미란',\n",
              " 298: '욕심',\n",
              " 299: '많았던',\n",
              " 300: '만이라도',\n",
              " 301: '베댓',\n",
              " 302: '도둑',\n",
              " 303: '뫼비우스',\n",
              " 304: '만들어졌다는게',\n",
              " 305: '짜릿',\n",
              " 306: '화이',\n",
              " 307: '주입',\n",
              " 308: '식이',\n",
              " 309: '전하',\n",
              " 310: '줬으면',\n",
              " 311: '다르덴',\n",
              " 312: '이냐리',\n",
              " 313: '섞인',\n",
              " 314: '그릇',\n",
              " 315: '담겨있다',\n",
              " 316: '여군',\n",
              " 317: '엠비씨',\n",
              " 318: '질린다',\n",
              " 319: '좋구나',\n",
              " 320: '한석규',\n",
              " 321: '김혜수',\n",
              " 322: '돋보인',\n",
              " 323: '어딘',\n",
              " 324: '바이러스',\n",
              " 325: '석',\n",
              " 326: '년전',\n",
              " 327: '믿기',\n",
              " 328: '힘들',\n",
              " 329: '만들었다고',\n",
              " 330: '부가',\n",
              " 331: '아쉽긴',\n",
              " 332: '재미있다고',\n",
              " 333: '용가리',\n",
              " 334: '짱짱맨',\n",
              " 335: '보다니',\n",
              " 336: '꼽',\n",
              " 337: '야할지',\n",
              " 338: '모건',\n",
              " 339: '프리',\n",
              " 340: '먼은',\n",
              " 341: '들어도',\n",
              " 342: '섹시하다',\n",
              " 343: '재방송',\n",
              " 344: '혹',\n",
              " 345: '시나',\n",
              " 346: '왠만한',\n",
              " 347: '쩔게',\n",
              " 348: '재미있었습니다',\n",
              " 349: '잔인하게',\n",
              " 350: '노출씬',\n",
              " 351: '화끈하게',\n",
              " 352: '했더라면',\n",
              " 353: '국산',\n",
              " 354: '보임',\n",
              " 355: '끝내',\n",
              " 356: '지겹다',\n",
              " 357: '지겨워',\n",
              " 358: '드니',\n",
              " 359: '맥스',\n",
              " 360: '샘',\n",
              " 361: '바랬다',\n",
              " 362: '지네',\n",
              " 363: '면상',\n",
              " 364: '모를까',\n",
              " 365: '좋아할듯',\n",
              " 366: '동심',\n",
              " 367: '멀리',\n",
              " 368: '떠',\n",
              " 369: '크리스토퍼',\n",
              " 370: '왈츠',\n",
              " 371: '타란티노',\n",
              " 372: '유명',\n",
              " 373: '초월',\n",
              " 374: '종방',\n",
              " 375: '아쉬워요',\n",
              " 376: '방도',\n",
              " 377: '대본',\n",
              " 378: '수백향',\n",
              " 379: '바른',\n",
              " 380: '였던듯',\n",
              " 381: 'MBC',\n",
              " 382: '위원회',\n",
              " 383: '김혜선',\n",
              " 384: '@',\n",
              " 385: '오면',\n",
              " 386: '김',\n",
              " 387: '순정',\n",
              " 388: '팜므파탈',\n",
              " 389: '의외',\n",
              " 390: '였어',\n",
              " 391: '벌어지고',\n",
              " 392: '논란',\n",
              " 393: '나갈',\n",
              " 394: '나올거',\n",
              " 395: 'ㅈ',\n",
              " 396: '.\"\"\"',\n",
              " 397: '공유',\n",
              " 398: '존잘',\n",
              " 399: '상쾌',\n",
              " 400: '발랄한',\n",
              " 401: '유쾌하게',\n",
              " 402: '해설',\n",
              " 403: '소파',\n",
              " 404: '앉아',\n",
              " 405: '지켜',\n",
              " 406: '!!!!!!!!!!!!!!',\n",
              " 407: '주된',\n",
              " 408: '타겟',\n",
              " 409: '일반',\n",
              " 410: '논리',\n",
              " 411: '통',\n",
              " 412: '알겠다',\n",
              " 413: '흥미롭지',\n",
              " 414: '요원',\n",
              " 415: '거슬린다',\n",
              " 416: '사운드',\n",
              " 417: '녹음',\n",
              " 418: '남주는',\n",
              " 419: '추고',\n",
              " 420: '뻔할',\n",
              " 421: '어울리고',\n",
              " 422: 'CGV',\n",
              " 423: '뛰어',\n",
              " 424: '말리',\n",
              " 425: '싶습니다',\n",
              " 426: '뮤지컬영화',\n",
              " 427: '아닙니다',\n",
              " 428: '맘마미아',\n",
              " 429: '어린나이에',\n",
              " 430: '봤음에도',\n",
              " 431: '좋아했던',\n",
              " 432: '로맨틱코미디',\n",
              " 433: '게이물',\n",
              " 434: '머임',\n",
              " 435: '알고싶다',\n",
              " 436: '스텝',\n",
              " 437: '꼭두각시',\n",
              " 438: '익숙해진',\n",
              " 439: '현대인',\n",
              " 440: '떼기',\n",
              " 441: '뻑',\n",
              " 442: '읽어',\n",
              " 443: '볼걸',\n",
              " 444: '당했음',\n",
              " 445: '생긴',\n",
              " 446: '시종일관',\n",
              " 447: '고역',\n",
              " 448: '간간히',\n",
              " 449: '흘러나오는',\n",
              " 450: '클래식',\n",
              " 451: '풍',\n",
              " 452: '조차도',\n",
              " 453: '듣기',\n",
              " 454: '싫어',\n",
              " 455: '짜증날',\n",
              " 456: '싫은',\n",
              " 457: '아깝네요',\n",
              " 458: '나오네요',\n",
              " 459: '죄송해요',\n",
              " 460: '짜집기',\n",
              " 461: '왠만해서',\n",
              " 462: '...-_-',\n",
              " 463: '돼지',\n",
              " 464: '따는',\n",
              " 465: '우웩',\n",
              " 466: '무당',\n",
              " 467: '버려',\n",
              " 468: '왔다',\n",
              " 469: '복귀',\n",
              " 470: '알수가',\n",
              " 471: '참가자',\n",
              " 472: '심사',\n",
              " 473: '위원',\n",
              " 474: '인격',\n",
              " 475: '어허',\n",
              " 476: '하고요',\n",
              " 477: '광장',\n",
              " 478: '무섭고',\n",
              " 479: '판타지영화',\n",
              " 480: '짓은',\n",
              " 481: '금물',\n",
              " 482: '지옥',\n",
              " 483: '기존',\n",
              " 484: '멜로영화',\n",
              " 485: '형식',\n",
              " 486: '탈피',\n",
              " 487: '하였으나',\n",
              " 488: '지나쳐',\n",
              " 489: '담백한',\n",
              " 490: '쏙',\n",
              " 491: '버렸네',\n",
              " 492: '1.2',\n",
              " 493: '할거야',\n",
              " 494: '주네',\n",
              " 495: '남은',\n",
              " 496: '화려하게',\n",
              " 497: '젖어',\n",
              " 498: '벗어난',\n",
              " 499: '14년',\n",
              " 500: '도에',\n",
              " 501: '만든거',\n",
              " 502: '접해',\n",
              " 503: '귀여워',\n",
              " 504: '넘쳐',\n",
              " 505: '지나가면',\n",
              " 506: '돌아오지',\n",
              " 507: '무한',\n",
              " 508: '젊음',\n",
              " 509: '건담',\n",
              " 510: '최고봉',\n",
              " 511: '개콘',\n",
              " 512: '코너',\n",
              " 513: '이안',\n",
              " 514: '사다코',\n",
              " 515: '서린',\n",
              " 516: '우물',\n",
              " 517: '펀치',\n",
              " 518: '후세',\n",
              " 519: '계기',\n",
              " 520: '람',\n",
              " 521: '생명',\n",
              " 522: '출현',\n",
              " 523: '연극',\n",
              " 524: '본능',\n",
              " 525: '하는지를',\n",
              " 526: '좋았을',\n",
              " 527: '뻔했다',\n",
              " 528: '강수연',\n",
              " 529: '신음',\n",
              " 530: '예쁘네요',\n",
              " 531: '웃는',\n",
              " 532: '가발',\n",
              " 533: '여정',\n",
              " 534: '깊어요',\n",
              " 535: '배두나',\n",
              " 536: '성적',\n",
              " 537: '호기심',\n",
              " 538: '닥치고',\n",
              " 539: '각기',\n",
              " 540: '파워',\n",
              " 541: '훈훈하네요',\n",
              " 542: '응답',\n",
              " 543: '하라',\n",
              " 544: '은지원',\n",
              " 545: '배꼽',\n",
              " 546: '빠질',\n",
              " 547: '뻔했네',\n",
              " 548: '컴',\n",
              " 549: '부실한',\n",
              " 550: '믿을수',\n",
              " 551: '장끌',\n",
              " 552: '로드',\n",
              " 553: '몰락',\n",
              " 554: '가져온',\n",
              " 555: '오우삼',\n",
              " 556: '재미없었던',\n",
              " 557: '제적',\n",
              " 558: '영웅본색',\n",
              " 559: '학창시절',\n",
              " 560: '느껴',\n",
              " 561: '볼수있는',\n",
              " 562: '배경음악',\n",
              " 563: '버릴게',\n",
              " 564: '높아서',\n",
              " 565: '화남',\n",
              " 566: '형태',\n",
              " 567: '닿지',\n",
              " 568: '허무하고',\n",
              " 569: '완벽히',\n",
              " 570: '영양가',\n",
              " 571: '이승기',\n",
              " 572: '특집',\n",
              " 573: '되었습니다',\n",
              " 574: '도의',\n",
              " 575: '미로',\n",
              " 576: 'trash',\n",
              " 577: 'of',\n",
              " 578: '제대',\n",
              " 579: '보는것만으로도',\n",
              " 580: '휴가',\n",
              " 581: '다녀온',\n",
              " 582: '잔잔하지만',\n",
              " 583: '햇살',\n",
              " 584: '가득한',\n",
              " 585: '이의',\n",
              " 586: '요리',\n",
              " 587: '1996년',\n",
              " 588: '신현준',\n",
              " 589: '황',\n",
              " 590: '장군',\n",
              " 591: '괜찮네',\n",
              " 592: '열린',\n",
              " 593: '뿅',\n",
              " 594: '재생',\n",
              " 595: '서스펜스',\n",
              " 596: '흡입',\n",
              " 597: '찬다',\n",
              " 598: '버킷리스트',\n",
              " 599: '죽기',\n",
              " 600: '직전',\n",
              " 601: '소원',\n",
              " 602: '가보기엔',\n",
              " 603: '살자',\n",
              " 604: '발톱',\n",
              " 605: '만큼도',\n",
              " 606: '따라가는',\n",
              " 607: '완존',\n",
              " 608: '밝고',\n",
              " 609: '긍정',\n",
              " 610: '보고싶어서',\n",
              " 611: '거슬리네요',\n",
              " 612: '인게',\n",
              " 613: '이그',\n",
              " 614: '시원하고',\n",
              " 615: '진다',\n",
              " 616: '답답하네요',\n",
              " 617: '낼',\n",
              " 618: '월요일',\n",
              " 619: '해피',\n",
              " 620: '정치인',\n",
              " 621: '모순',\n",
              " 622: '어렵',\n",
              " 623: '주년',\n",
              " 624: '만드는데',\n",
              " 625: '재개',\n",
              " 626: '봉하',\n",
              " 627: 'ㅄ',\n",
              " 628: '개그콘서트',\n",
              " 629: '본다고',\n",
              " 630: '전화',\n",
              " 631: '서양',\n",
              " 632: '푸하하하',\n",
              " 633: '구만',\n",
              " 634: '반공',\n",
              " 635: '애니매이션',\n",
              " 636: '바라보는',\n",
              " 637: '색다른',\n",
              " 638: '문학',\n",
              " 639: '무고',\n",
              " 640: '시켜',\n",
              " 641: '돼요',\n",
              " 642: '보세여',\n",
              " 643: '만들어놓고',\n",
              " 644: '신나는',\n",
              " 645: '아이스',\n",
              " 646: '큐브',\n",
              " 647: '남는게',\n",
              " 648: '건데',\n",
              " 649: '알리시아',\n",
              " 650: '생생하게',\n",
              " 651: '이상하다',\n",
              " 652: '옥소리',\n",
              " 653: '프로필',\n",
              " 654: '남기고',\n",
              " 655: 'ㅋㅋㅋㅋㅋㅋㅋㅋㅋㅋㅋㅋㅋㅋ',\n",
              " 656: '아우',\n",
              " 657: '나오겠지',\n",
              " 658: '까야',\n",
              " 659: '이적',\n",
              " 660: '허나',\n",
              " 661: '영화로서도',\n",
              " 662: '빠져드는',\n",
              " 663: '모녀',\n",
              " 664: '토막',\n",
              " 665: '살해',\n",
              " 666: '되나',\n",
              " 667: '되도',\n",
              " 668: '받았다고',\n",
              " 669: '할수있을까',\n",
              " 670: '매미',\n",
              " 671: '보죠',\n",
              " 672: '재미있',\n",
              " 673: '혀',\n",
              " 674: '짧은',\n",
              " 675: '매니저',\n",
              " 676: '역활',\n",
              " 677: '적당히',\n",
              " 678: '이구',\n",
              " 679: '하려는지',\n",
              " 680: '모르겠네',\n",
              " 681: '오글거리고',\n",
              " 682: '이상해요',\n",
              " 683: '월',\n",
              " 684: '익숙한',\n",
              " 685: '나왔어',\n",
              " 686: '2%',\n",
              " 687: '부족했다',\n",
              " 688: '50%',\n",
              " 689: '12년',\n",
              " 690: '자는',\n",
              " 691: '정은지',\n",
              " 692: '하구',\n",
              " 693: '웃으면서',\n",
              " 694: '트로트',\n",
              " 695: '연인',\n",
              " 696: '망함',\n",
              " 697: '..,',\n",
              " 698: '재미없다고',\n",
              " 699: '여자애',\n",
              " 700: '복',\n",
              " 701: '순이',\n",
              " 702: '없어도',\n",
              " 703: '됐다고',\n",
              " 704: '어색',\n",
              " 705: '연속극',\n",
              " 706: '뛰어나다',\n",
              " 707: '인터뷰',\n",
              " 708: '알았음',\n",
              " 709: '박스',\n",
              " 710: '오피스',\n",
              " 711: '80~90년',\n",
              " 712: '다를게',\n",
              " 713: '기량',\n",
              " 714: '었',\n",
              " 715: '허무하게',\n",
              " 716: '버린다',\n",
              " 717: '조디',\n",
              " 718: '아니예요',\n",
              " 719: '^.^',\n",
              " 720: '살려',\n",
              " 721: '두기',\n",
              " 722: '쌀',\n",
              " 723: '명대사',\n",
              " 724: '재미있지',\n",
              " 725: '쓸데없이',\n",
              " 726: '많음',\n",
              " 727: '뒷받침',\n",
              " 728: '중요한데',\n",
              " 729: '위드',\n",
              " 730: '애니스톤',\n",
              " 731: '실망했음',\n",
              " 732: '맛깔',\n",
              " 733: '시베리아',\n",
              " 734: '훈련',\n",
              " 735: '작살',\n",
              " 736: '야경',\n",
              " 737: '꾼',\n",
              " 738: '10회',\n",
              " 739: '즉',\n",
              " 740: '달이',\n",
              " 741: '하더만',\n",
              " 742: '그러다',\n",
              " 743: '훅',\n",
              " 744: '지존',\n",
              " 745: '수록',\n",
              " 746: '추노',\n",
              " 747: '민폐',\n",
              " 748: '싸한',\n",
              " 749: '저급',\n",
              " 750: '송강호',\n",
              " 751: '그로',\n",
              " 752: '즐거움',\n",
              " 753: '느낀다',\n",
              " 754: '수입',\n",
              " 755: '금지',\n",
              " 756: '테이프',\n",
              " 757: '불후',\n",
              " 758: '그립다',\n",
              " 759: '토록',\n",
              " 760: '재밌을',\n",
              " 761: '재치',\n",
              " 762: '들의',\n",
              " 763: '닮아서',\n",
              " 764: '멋졌다',\n",
              " 765: '이외',\n",
              " 766: '98년',\n",
              " 767: '당대',\n",
              " 768: '퀄',\n",
              " 769: '결코',\n",
              " 770: '떨어지지',\n",
              " 771: '않아요',\n",
              " 772: '보고있는',\n",
              " 773: '한심하다',\n",
              " 774: '재기',\n",
              " 775: '유유',\n",
              " 776: '안개',\n",
              " 777: '낀',\n",
              " 778: '워터',\n",
              " 779: '다리',\n",
              " 780: '곤',\n",
              " 781: '사토시',\n",
              " 782: '2010년',\n",
              " 783: '됐습니다',\n",
              " 784: '뼈',\n",
              " 785: '지고',\n",
              " 786: '독',\n",
              " 787: '들수록',\n",
              " 788: '이구나',\n",
              " 789: '뭉클해지는',\n",
              " 790: '닿는게',\n",
              " 791: '져도',\n",
              " 792: '1997년',\n",
              " 793: '만들었습니다',\n",
              " 794: '2009년',\n",
              " 795: '길어서',\n",
              " 796: '다듬었으면',\n",
              " 797: '감도',\n",
              " 798: '매끄럽지',\n",
              " 799: '한듯',\n",
              " 800: '철',\n",
              " 801: '뼈대',\n",
              " 802: '가문',\n",
              " 803: '박정아',\n",
              " 804: '비롯',\n",
              " 805: '민망한',\n",
              " 806: '군더더기',\n",
              " 807: '없는게',\n",
              " 808: '심심해서',\n",
              " 809: '탑',\n",
              " 810: '할줄',\n",
              " 811: '포스',\n",
              " 812: '나고',\n",
              " 813: '다미',\n",
              " 814: '괜찮음',\n",
              " 815: '지대',\n",
              " 816: '민망해',\n",
              " 817: '주냐',\n",
              " 818: '빠순이',\n",
              " 819: '긔',\n",
              " 820: '진부하다',\n",
              " 821: '다르게',\n",
              " 822: '불쾌한',\n",
              " 823: '줄리아',\n",
              " 824: '로버츠',\n",
              " 825: '5년',\n",
              " 826: '예술가',\n",
              " 827: '관객수',\n",
              " 828: '베테',\n",
              " 829: '류승완',\n",
              " 830: '역작',\n",
              " 831: '강한',\n",
              " 832: '한창',\n",
              " 833: '펭귄',\n",
              " 834: '남북',\n",
              " 835: '거짓',\n",
              " 836: '이던',\n",
              " 837: '하나님',\n",
              " 838: '가정',\n",
              " 839: '온전히',\n",
              " 840: '이만',\n",
              " 841: '핀',\n",
              " 842: '헤드',\n",
              " 843: '신라',\n",
              " 844: '따뜻함',\n",
              " 845: '!~',\n",
              " 846: '~~~~~~~~~~~',\n",
              " 847: '높아진',\n",
              " 848: '의견',\n",
              " 849: '지존파',\n",
              " 850: '핑계',\n",
              " 851: '삼아',\n",
              " 852: '정당화',\n",
              " 853: '정부',\n",
              " 854: '였다는',\n",
              " 855: '여부',\n",
              " 856: '떠나',\n",
              " 857: '왔던',\n",
              " 858: '기사',\n",
              " 859: '검술',\n",
              " 860: '트리스탄',\n",
              " 861: '싸우는',\n",
              " 862: '흉내',\n",
              " 863: '낸거',\n",
              " 864: '같은게',\n",
              " 865: '쌍',\n",
              " 866: '안대',\n",
              " 867: '기네',\n",
              " 868: '미스',\n",
              " 869: '평균',\n",
              " 870: '치를',\n",
              " 871: '하락',\n",
              " 872: '충분한',\n",
              " 873: '흘러간다',\n",
              " 874: '네러티브',\n",
              " 875: '동영상',\n",
              " 876: '취미',\n",
              " 877: '끝나길',\n",
              " 878: '올인',\n",
              " 879: '하길',\n",
              " 880: '위조',\n",
              " 881: '성범죄자',\n",
              " 882: '제자',\n",
              " 883: '모아서',\n",
              " 884: '찍음',\n",
              " 885: '무서웠어요',\n",
              " 886: '나쁘고',\n",
              " 887: '깔끔한',\n",
              " 888: '뜻밖',\n",
              " 889: '..!',\n",
              " 890: '그랜드',\n",
              " 891: '부다페스트',\n",
              " 892: '호텔',\n",
              " 893: '같네',\n",
              " 894: '감기',\n",
              " 895: '비는',\n",
              " 896: '들었을',\n",
              " 897: '영화사',\n",
              " 898: '망했네',\n",
              " 899: '재밌다는',\n",
              " 900: '모르겠네요',\n",
              " 901: '아이언맨',\n",
              " 902: '웃어',\n",
              " 903: '놀이',\n",
              " 904: '높은지',\n",
              " 905: '모르겠습니다',\n",
              " 906: '끌어가는',\n",
              " 907: '중심',\n",
              " 908: '있어야',\n",
              " 909: '살인마',\n",
              " 910: '대적',\n",
              " 911: '탈출',\n",
              " 912: '해놓고',\n",
              " 913: '잡히고',\n",
              " 914: '할수가',\n",
              " 915: '정유미',\n",
              " 916: '나면',\n",
              " 917: '비록',\n",
              " 918: '점차',\n",
              " 919: '앤드류',\n",
              " 920: '선사',\n",
              " 921: '영구',\n",
              " 922: '땡',\n",
              " 923: '칠이',\n",
              " 924: '친척',\n",
              " 925: '빌려와',\n",
              " 926: '재밌더라',\n",
              " 927: '없었을까',\n",
              " 928: '최신',\n",
              " 929: '온거',\n",
              " 930: '고요하고',\n",
              " 931: '서글픈',\n",
              " 932: '성찰',\n",
              " 933: '사색',\n",
              " 934: '울었습니다',\n",
              " 935: 'ㅜㅜㅜ',\n",
              " 936: '내기',\n",
              " 937: '일것',\n",
              " 938: '딸린',\n",
              " 939: '심은하',\n",
              " 940: '눈부신',\n",
              " 941: '주제가',\n",
              " 942: '가는줄도',\n",
              " 943: '싸',\n",
              " 944: '부족하고',\n",
              " 945: '이상함',\n",
              " 946: '절망',\n",
              " 947: '잔인함',\n",
              " 948: '거부',\n",
              " 949: '대하',\n",
              " 950: '페이스',\n",
              " 951: '흘러도',\n",
              " 952: '퇴색',\n",
              " 953: '어마어마한',\n",
              " 954: '마르',\n",
              " 955: '같지도',\n",
              " 956: '망침',\n",
              " 957: '없었음',\n",
              " 958: '.(',\n",
              " 959: '공주',\n",
              " 960: '만약',\n",
              " 961: '미국인',\n",
              " 962: '맞서',\n",
              " 963: '아메리칸',\n",
              " 964: '원주민',\n",
              " 965: '투쟁',\n",
              " 966: '아카데미상',\n",
              " 967: '받았음',\n",
              " 968: '훈훈하고',\n",
              " 969: '부정',\n",
              " 970: '느낄수',\n",
              " 971: '잇',\n",
              " 972: '엇음',\n",
              " 973: '어딘가',\n",
              " 974: '일어나고',\n",
              " 975: '강하다',\n",
              " 976: '우베',\n",
              " 977: '정장',\n",
              " 978: '쥑',\n",
              " 979: '싶었던',\n",
              " 980: '엽문',\n",
              " 981: '순위',\n",
              " 982: '늦은',\n",
              " 983: '흥미롭게',\n",
              " 984: '이쁘네요',\n",
              " 985: '반했음',\n",
              " 986: '건질게',\n",
              " 987: '으로나',\n",
              " 988: '명치',\n",
              " 989: '때리고',\n",
              " 990: '도움',\n",
              " 991: '깨달',\n",
              " 992: '싶으면',\n",
              " 993: '아누',\n",
              " 994: '리브',\n",
              " 995: '영화평론가',\n",
              " 996: '마는',\n",
              " 997: '대강',\n",
              " 998: '간첩',\n",
              " 999: '색휘',\n",
              " ...}"
            ]
          },
          "metadata": {},
          "execution_count": 31
        }
      ]
    },
    {
      "cell_type": "code",
      "source": [
        "id_to_morph.get(10)"
      ],
      "metadata": {
        "colab": {
          "base_uri": "https://localhost:8080/",
          "height": 36
        },
        "id": "Qfx9K7OB-gJT",
        "outputId": "2c039b21-bcae-4da3-8dd6-824a9754fc86"
      },
      "execution_count": null,
      "outputs": [
        {
          "output_type": "execute_result",
          "data": {
            "text/plain": [
              "'줄'"
            ],
            "application/vnd.google.colaboratory.intrinsic+json": {
              "type": "string"
            }
          },
          "metadata": {},
          "execution_count": 98
        }
      ]
    },
    {
      "cell_type": "markdown",
      "source": [
        "- 데이터 전처리를 한다. \n",
        "- maximum length를 잡고"
      ],
      "metadata": {
        "id": "WeF5B-LnFWqP"
      }
    },
    {
      "cell_type": "code",
      "source": [
        "# recall\n",
        "train_data.head()"
      ],
      "metadata": {
        "colab": {
          "base_uri": "https://localhost:8080/",
          "height": 206
        },
        "id": "5hAsdKX1GT3T",
        "outputId": "6bc1c3ee-f902-4b2c-e6bc-8572e3c864ec"
      },
      "execution_count": null,
      "outputs": [
        {
          "output_type": "execute_result",
          "data": {
            "text/plain": [
              "         id                                               text  label\n",
              "0   9976970                                아 더빙.. 진짜 짜증나네요 목소리      0\n",
              "1   3819312                  흠...포스터보고 초딩영화줄....오버연기조차 가볍지 않구나      1\n",
              "2  10265843                                  너무재밓었다그래서보는것을추천한다      0\n",
              "3   9045019                      교도소 이야기구먼 ..솔직히 재미는 없다..평점 조정      0\n",
              "4   6483659  사이몬페그의 익살스런 연기가 돋보였던 영화!스파이더맨에서 늙어보이기만 했던 커스틴 ...      1"
            ],
            "text/html": [
              "\n",
              "  <div id=\"df-e2267e17-d6aa-4e95-a0d6-f9d10c2fa645\">\n",
              "    <div class=\"colab-df-container\">\n",
              "      <div>\n",
              "<style scoped>\n",
              "    .dataframe tbody tr th:only-of-type {\n",
              "        vertical-align: middle;\n",
              "    }\n",
              "\n",
              "    .dataframe tbody tr th {\n",
              "        vertical-align: top;\n",
              "    }\n",
              "\n",
              "    .dataframe thead th {\n",
              "        text-align: right;\n",
              "    }\n",
              "</style>\n",
              "<table border=\"1\" class=\"dataframe\">\n",
              "  <thead>\n",
              "    <tr style=\"text-align: right;\">\n",
              "      <th></th>\n",
              "      <th>id</th>\n",
              "      <th>text</th>\n",
              "      <th>label</th>\n",
              "    </tr>\n",
              "  </thead>\n",
              "  <tbody>\n",
              "    <tr>\n",
              "      <th>0</th>\n",
              "      <td>9976970</td>\n",
              "      <td>아 더빙.. 진짜 짜증나네요 목소리</td>\n",
              "      <td>0</td>\n",
              "    </tr>\n",
              "    <tr>\n",
              "      <th>1</th>\n",
              "      <td>3819312</td>\n",
              "      <td>흠...포스터보고 초딩영화줄....오버연기조차 가볍지 않구나</td>\n",
              "      <td>1</td>\n",
              "    </tr>\n",
              "    <tr>\n",
              "      <th>2</th>\n",
              "      <td>10265843</td>\n",
              "      <td>너무재밓었다그래서보는것을추천한다</td>\n",
              "      <td>0</td>\n",
              "    </tr>\n",
              "    <tr>\n",
              "      <th>3</th>\n",
              "      <td>9045019</td>\n",
              "      <td>교도소 이야기구먼 ..솔직히 재미는 없다..평점 조정</td>\n",
              "      <td>0</td>\n",
              "    </tr>\n",
              "    <tr>\n",
              "      <th>4</th>\n",
              "      <td>6483659</td>\n",
              "      <td>사이몬페그의 익살스런 연기가 돋보였던 영화!스파이더맨에서 늙어보이기만 했던 커스틴 ...</td>\n",
              "      <td>1</td>\n",
              "    </tr>\n",
              "  </tbody>\n",
              "</table>\n",
              "</div>\n",
              "      <button class=\"colab-df-convert\" onclick=\"convertToInteractive('df-e2267e17-d6aa-4e95-a0d6-f9d10c2fa645')\"\n",
              "              title=\"Convert this dataframe to an interactive table.\"\n",
              "              style=\"display:none;\">\n",
              "        \n",
              "  <svg xmlns=\"http://www.w3.org/2000/svg\" height=\"24px\"viewBox=\"0 0 24 24\"\n",
              "       width=\"24px\">\n",
              "    <path d=\"M0 0h24v24H0V0z\" fill=\"none\"/>\n",
              "    <path d=\"M18.56 5.44l.94 2.06.94-2.06 2.06-.94-2.06-.94-.94-2.06-.94 2.06-2.06.94zm-11 1L8.5 8.5l.94-2.06 2.06-.94-2.06-.94L8.5 2.5l-.94 2.06-2.06.94zm10 10l.94 2.06.94-2.06 2.06-.94-2.06-.94-.94-2.06-.94 2.06-2.06.94z\"/><path d=\"M17.41 7.96l-1.37-1.37c-.4-.4-.92-.59-1.43-.59-.52 0-1.04.2-1.43.59L10.3 9.45l-7.72 7.72c-.78.78-.78 2.05 0 2.83L4 21.41c.39.39.9.59 1.41.59.51 0 1.02-.2 1.41-.59l7.78-7.78 2.81-2.81c.8-.78.8-2.07 0-2.86zM5.41 20L4 18.59l7.72-7.72 1.47 1.35L5.41 20z\"/>\n",
              "  </svg>\n",
              "      </button>\n",
              "      \n",
              "  <style>\n",
              "    .colab-df-container {\n",
              "      display:flex;\n",
              "      flex-wrap:wrap;\n",
              "      gap: 12px;\n",
              "    }\n",
              "\n",
              "    .colab-df-convert {\n",
              "      background-color: #E8F0FE;\n",
              "      border: none;\n",
              "      border-radius: 50%;\n",
              "      cursor: pointer;\n",
              "      display: none;\n",
              "      fill: #1967D2;\n",
              "      height: 32px;\n",
              "      padding: 0 0 0 0;\n",
              "      width: 32px;\n",
              "    }\n",
              "\n",
              "    .colab-df-convert:hover {\n",
              "      background-color: #E2EBFA;\n",
              "      box-shadow: 0px 1px 2px rgba(60, 64, 67, 0.3), 0px 1px 3px 1px rgba(60, 64, 67, 0.15);\n",
              "      fill: #174EA6;\n",
              "    }\n",
              "\n",
              "    [theme=dark] .colab-df-convert {\n",
              "      background-color: #3B4455;\n",
              "      fill: #D2E3FC;\n",
              "    }\n",
              "\n",
              "    [theme=dark] .colab-df-convert:hover {\n",
              "      background-color: #434B5C;\n",
              "      box-shadow: 0px 1px 3px 1px rgba(0, 0, 0, 0.15);\n",
              "      filter: drop-shadow(0px 1px 2px rgba(0, 0, 0, 0.3));\n",
              "      fill: #FFFFFF;\n",
              "    }\n",
              "  </style>\n",
              "\n",
              "      <script>\n",
              "        const buttonEl =\n",
              "          document.querySelector('#df-e2267e17-d6aa-4e95-a0d6-f9d10c2fa645 button.colab-df-convert');\n",
              "        buttonEl.style.display =\n",
              "          google.colab.kernel.accessAllowed ? 'block' : 'none';\n",
              "\n",
              "        async function convertToInteractive(key) {\n",
              "          const element = document.querySelector('#df-e2267e17-d6aa-4e95-a0d6-f9d10c2fa645');\n",
              "          const dataTable =\n",
              "            await google.colab.kernel.invokeFunction('convertToInteractive',\n",
              "                                                     [key], {});\n",
              "          if (!dataTable) return;\n",
              "\n",
              "          const docLinkHtml = 'Like what you see? Visit the ' +\n",
              "            '<a target=\"_blank\" href=https://colab.research.google.com/notebooks/data_table.ipynb>data table notebook</a>'\n",
              "            + ' to learn more about interactive tables.';\n",
              "          element.innerHTML = '';\n",
              "          dataTable['output_type'] = 'display_data';\n",
              "          await google.colab.output.renderOutput(dataTable, element);\n",
              "          const docLink = document.createElement('div');\n",
              "          docLink.innerHTML = docLinkHtml;\n",
              "          element.appendChild(docLink);\n",
              "        }\n",
              "      </script>\n",
              "    </div>\n",
              "  </div>\n",
              "  "
            ]
          },
          "metadata": {},
          "execution_count": 100
        }
      ]
    },
    {
      "cell_type": "code",
      "source": [
        "# '[PAD]': 0, '[UNK]': 1\n",
        "# pre-padding 기준으로 \n",
        "max_length = 9\n",
        "text = train_data[\"text\"][0]\n",
        "text_list = okt.morphs(text)\n",
        "print(\"text_list:\", text_list)\n",
        "print(\"len of text_list:\", len(text_list))\n",
        "\n",
        "# 입력 text 가 최대 길이보다 짧은거나 같은 경우\n",
        "m =  max_length-len(text_list)\n",
        "if m>=0:\n",
        "  text_list_id = [0 if i<m else morph_to_id.get(text_list[i-m],1) for i in range(max_length)]\n",
        "# 입력 text 가 최대 길이보다 긴 경우\n",
        "else:\n",
        "  text_list_id = [morph_to_id.get(text_list[i],1) for i in range(max_length)]\n",
        "print(text_list_id)"
      ],
      "metadata": {
        "colab": {
          "base_uri": "https://localhost:8080/"
        },
        "id": "qKlBa87VH-ci",
        "outputId": "eecbf90d-0018-4ceb-87bf-2246bd5e96b7"
      },
      "execution_count": null,
      "outputs": [
        {
          "output_type": "execute_result",
          "data": {
            "text/plain": [
              "[0, 0, 0, 1, 1, 1, 1, 2, 1]"
            ]
          },
          "metadata": {},
          "execution_count": 36
        }
      ]
    },
    {
      "cell_type": "code",
      "source": [
        "def textEncoding(text_list, max_length, morph_to_id):\n",
        "  m =  max_length-len(text_list)\n",
        "  if m>=0:\n",
        "    text_list_id = [0 if i<m else morph_to_id.get(text_list[i-m],1) for i in range(max_length)]\n",
        "  # 입력 text 가 최대 길이보다 긴 경우\n",
        "  else:\n",
        "    text_list_id = [morph_to_id.get(text_list[i],1) for i in range(max_length)]\n",
        "  return text_list_id"
      ],
      "metadata": {
        "id": "_Ub8VnecS4y4"
      },
      "execution_count": null,
      "outputs": []
    },
    {
      "cell_type": "code",
      "source": [
        "textEncoding(text_list, 9, morph_to_id)"
      ],
      "metadata": {
        "colab": {
          "base_uri": "https://localhost:8080/"
        },
        "id": "klDANjcRTZZH",
        "outputId": "75c923bc-8235-45a7-a541-a9c74f53b7e0"
      },
      "execution_count": null,
      "outputs": [
        {
          "output_type": "execute_result",
          "data": {
            "text/plain": [
              "[0, 0, 0, 2, 3, 4, 5, 1, 1]"
            ]
          },
          "metadata": {},
          "execution_count": 141
        }
      ]
    },
    {
      "cell_type": "code",
      "source": [
        "X = []\n",
        "for text in tqdm(train_data[\"text\"]):\n",
        "  text_list = okt.morphs(text)\n",
        "  X.append(textEncoding(text_list, 9, morph_to_id))"
      ],
      "metadata": {
        "colab": {
          "base_uri": "https://localhost:8080/"
        },
        "id": "CPPwBHQYTlwq",
        "outputId": "fa843ece-0644-4ed7-9294-01a12ce6d108"
      },
      "execution_count": null,
      "outputs": [
        {
          "output_type": "stream",
          "name": "stderr",
          "text": [
            "100%|██████████| 1000/1000 [00:04<00:00, 244.30it/s]\n"
          ]
        }
      ]
    },
    {
      "cell_type": "code",
      "source": [
        "from torch.utils.data import TensorDataset\n",
        "X_t = torch.tensor(X)\n",
        "#train = TensorDataset(train_data[\"text\"], train_data['label'])"
      ],
      "metadata": {
        "id": "ANAM-LmmGV2j"
      },
      "execution_count": null,
      "outputs": []
    },
    {
      "cell_type": "code",
      "source": [
        "Y_t = torch.tensor(train_data[\"label\"])\n",
        "tr_data = TensorDataset(X_t, Y_t)"
      ],
      "metadata": {
        "id": "Sth5ellWVWwA"
      },
      "execution_count": null,
      "outputs": []
    },
    {
      "cell_type": "code",
      "source": [
        "from torch.utils.data import DataLoader\n",
        "train_dataloader = DataLoader(tr_data, batch_size=5, shuffle=True)"
      ],
      "metadata": {
        "id": "Fc6-OeEbFkME"
      },
      "execution_count": null,
      "outputs": []
    },
    {
      "cell_type": "code",
      "source": [
        "for i, j in train_dataloader:\n",
        "  print(i)\n",
        "  print(j)\n",
        "  break"
      ],
      "metadata": {
        "colab": {
          "base_uri": "https://localhost:8080/"
        },
        "id": "JTNZ8uHCXGdp",
        "outputId": "a0976c42-433e-42f6-8798-383b3fe8eaac"
      },
      "execution_count": null,
      "outputs": [
        {
          "output_type": "stream",
          "name": "stdout",
          "text": [
            "tensor([[  1, 114,   1,   1,   1,  76,   1,   1,  81],\n",
            "        [  0,   0,   0,   0,   0,   0,   0,  12, 401],\n",
            "        [  1,   1,   1,   1, 162,   1, 123, 162,   1],\n",
            "        [  0,   0,   0,   0,   0,   0,   0,   1,   6],\n",
            "        [134,   1,   9,  15,  92,  32,   8, 150,  44]])\n",
            "tensor([1, 1, 1, 0, 1])\n"
          ]
        }
      ]
    },
    {
      "cell_type": "code",
      "source": [
        "embedding = torch.nn.Embedding(len(morph_to_id), 40, padding_idx = 0)"
      ],
      "metadata": {
        "id": "2V5AQR_UXMat"
      },
      "execution_count": null,
      "outputs": []
    },
    {
      "cell_type": "code",
      "source": [
        "for x, y in train_dataloader:\n",
        "  z = embedding(x)\n",
        "  print(\"shape of embedding vector:\", z.shape)\n",
        "  break"
      ],
      "metadata": {
        "colab": {
          "base_uri": "https://localhost:8080/"
        },
        "id": "m-bSJY1hZDqF",
        "outputId": "4c1b78b7-4532-4fa0-f492-b333b6df4bf4"
      },
      "execution_count": null,
      "outputs": [
        {
          "output_type": "stream",
          "name": "stdout",
          "text": [
            "shape of embedding vector: torch.Size([5, 9, 40])\n"
          ]
        }
      ]
    }
  ]
}