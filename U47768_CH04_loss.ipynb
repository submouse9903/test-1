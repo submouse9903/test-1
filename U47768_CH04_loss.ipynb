{
  "nbformat": 4,
  "nbformat_minor": 0,
  "metadata": {
    "colab": {
      "provenance": [],
      "include_colab_link": true
    },
    "kernelspec": {
      "name": "python3",
      "display_name": "Python 3"
    },
    "language_info": {
      "name": "python"
    }
  },
  "cells": [
    {
      "cell_type": "markdown",
      "metadata": {
        "id": "view-in-github",
        "colab_type": "text"
      },
      "source": [
        "<a href=\"https://colab.research.google.com/github/submouse9903/test-1/blob/master/U47768_CH04_loss.ipynb\" target=\"_parent\"><img src=\"https://colab.research.google.com/assets/colab-badge.svg\" alt=\"Open In Colab\"/></a>"
      ]
    },
    {
      "cell_type": "code",
      "execution_count": null,
      "metadata": {
        "id": "EOVv8O74jmT1"
      },
      "outputs": [],
      "source": [
        "import torch \n",
        "import torch.nn as nn"
      ]
    },
    {
      "cell_type": "code",
      "source": [
        "n = 100\n",
        "p = 50\n",
        "h1_dim = 10\n",
        "h2_dim = 10\n",
        "h3_dim = 10\n",
        "output_dim  = 10\n",
        "torch.manual_seed(1)\n",
        "x = torch.rand(n,p)\n",
        "y = torch.randint(0, output_dim, (n,))"
      ],
      "metadata": {
        "id": "dx9-qL4nj1l3"
      },
      "execution_count": null,
      "outputs": []
    },
    {
      "cell_type": "code",
      "source": [
        "model = nn.Sequential(nn.Linear(p,h1_dim),\n",
        "                      nn.ReLU(),\n",
        "                      nn.Linear(h1_dim, h2_dim),\n",
        "                      nn.ReLU(),\n",
        "                      nn.Linear(h2_dim, h3_dim),\n",
        "                      nn.ReLU(),\n",
        "                      nn.Linear(h3_dim, output_dim),\n",
        "                      nn.Softmax())"
      ],
      "metadata": {
        "id": "SsVJw3ZSknwr"
      },
      "execution_count": null,
      "outputs": []
    },
    {
      "cell_type": "code",
      "source": [
        "model(x)[0:5,]"
      ],
      "metadata": {
        "colab": {
          "base_uri": "https://localhost:8080/"
        },
        "id": "XSnh9MAMmJ-m",
        "outputId": "9c637bcb-074f-4fb7-f546-2c1fca9dc5a2"
      },
      "execution_count": null,
      "outputs": [
        {
          "output_type": "execute_result",
          "data": {
            "text/plain": [
              "tensor([[0.1269, 0.0808, 0.0770, 0.0909, 0.1019, 0.0888, 0.1045, 0.1014, 0.1217,\n",
              "         0.1062],\n",
              "        [0.1269, 0.0811, 0.0765, 0.0907, 0.1018, 0.0893, 0.1044, 0.1025, 0.1206,\n",
              "         0.1064],\n",
              "        [0.1266, 0.0806, 0.0769, 0.0907, 0.1021, 0.0892, 0.1044, 0.1014, 0.1216,\n",
              "         0.1065],\n",
              "        [0.1270, 0.0814, 0.0769, 0.0912, 0.1021, 0.0887, 0.1046, 0.1012, 0.1213,\n",
              "         0.1056],\n",
              "        [0.1268, 0.0817, 0.0766, 0.0907, 0.1015, 0.0896, 0.1046, 0.1020, 0.1207,\n",
              "         0.1058]], grad_fn=<SliceBackward0>)"
            ]
          },
          "metadata": {},
          "execution_count": 84
        }
      ]
    },
    {
      "cell_type": "code",
      "source": [
        "yhat = model(x)"
      ],
      "metadata": {
        "id": "XHdk9yDEpv0H"
      },
      "execution_count": null,
      "outputs": []
    },
    {
      "cell_type": "code",
      "source": [
        "cross_entropy=nn.CrossEntropyLoss()\n",
        "cross_entropy(yhat, y)"
      ],
      "metadata": {
        "colab": {
          "base_uri": "https://localhost:8080/"
        },
        "id": "nwPZ_GfTmLt6",
        "outputId": "cad329ec-ce92-4bbb-85ff-9fafd93fe385"
      },
      "execution_count": null,
      "outputs": [
        {
          "output_type": "execute_result",
          "data": {
            "text/plain": [
              "tensor(2.3017, grad_fn=<NllLossBackward0>)"
            ]
          },
          "metadata": {},
          "execution_count": 86
        }
      ]
    },
    {
      "cell_type": "code",
      "source": [
        "learning_rate = 0.1\n",
        "optimizer = torch.optim.Adam(model.parameters(), lr=learning_rate)  "
      ],
      "metadata": {
        "id": "m5EDAoeJpxag"
      },
      "execution_count": null,
      "outputs": []
    },
    {
      "cell_type": "code",
      "source": [
        "loss = cross_entropy(yhat, y)\n",
        "loss.item()"
      ],
      "metadata": {
        "colab": {
          "base_uri": "https://localhost:8080/"
        },
        "id": "_3lLFwipqdsW",
        "outputId": "8b0fbb83-d50c-40ae-ad2e-a220e4707232"
      },
      "execution_count": null,
      "outputs": [
        {
          "output_type": "execute_result",
          "data": {
            "text/plain": [
              "2.3016843795776367"
            ]
          },
          "metadata": {},
          "execution_count": 88
        }
      ]
    },
    {
      "cell_type": "code",
      "source": [
        "loss_val = loss.item()"
      ],
      "metadata": {
        "id": "x761NX3vqurI"
      },
      "execution_count": null,
      "outputs": []
    },
    {
      "cell_type": "code",
      "source": [
        "# Backward and optimize\n",
        "optimizer.zero_grad()"
      ],
      "metadata": {
        "id": "3nGGBccuq2cI"
      },
      "execution_count": null,
      "outputs": []
    },
    {
      "cell_type": "code",
      "source": [
        "loss.backward()\n",
        "optimizer.step()"
      ],
      "metadata": {
        "id": "ks7G0rGoq5Ha"
      },
      "execution_count": null,
      "outputs": []
    },
    {
      "cell_type": "code",
      "source": [
        "yhat = model(x)\n",
        "torch.max(yhat.data, 1)"
      ],
      "metadata": {
        "colab": {
          "base_uri": "https://localhost:8080/"
        },
        "id": "AHquJiAPq7g-",
        "outputId": "d30cfd34-a08c-4bdb-fcc1-8584f4a948b3"
      },
      "execution_count": null,
      "outputs": [
        {
          "output_type": "stream",
          "name": "stderr",
          "text": [
            "/usr/local/lib/python3.9/dist-packages/torch/nn/modules/container.py:217: UserWarning: Implicit dimension choice for softmax has been deprecated. Change the call to include dim=X as an argument.\n",
            "  input = module(input)\n"
          ]
        },
        {
          "output_type": "execute_result",
          "data": {
            "text/plain": [
              "torch.return_types.max(\n",
              "values=tensor([0.1263, 0.1264, 0.1260, 0.1265, 0.1264, 0.1268, 0.1272, 0.1259, 0.1262,\n",
              "        0.1271, 0.1264, 0.1266, 0.1260, 0.1275, 0.1270, 0.1270, 0.1261, 0.1264,\n",
              "        0.1257, 0.1264, 0.1258, 0.1259, 0.1275, 0.1271, 0.1265, 0.1258, 0.1268,\n",
              "        0.1274, 0.1257, 0.1264, 0.1263, 0.1264, 0.1254, 0.1259, 0.1263, 0.1272,\n",
              "        0.1261, 0.1263, 0.1271, 0.1266, 0.1274, 0.1269, 0.1251, 0.1267, 0.1256,\n",
              "        0.1273, 0.1260, 0.1264, 0.1264, 0.1270, 0.1264, 0.1267, 0.1279, 0.1261,\n",
              "        0.1263, 0.1267, 0.1262, 0.1264, 0.1270, 0.1275, 0.1273, 0.1270, 0.1265,\n",
              "        0.1250, 0.1267, 0.1268, 0.1265, 0.1277, 0.1261, 0.1263, 0.1258, 0.1273,\n",
              "        0.1277, 0.1274, 0.1267, 0.1256, 0.1256, 0.1258, 0.1270, 0.1259, 0.1279,\n",
              "        0.1268, 0.1269, 0.1260, 0.1264, 0.1264, 0.1268, 0.1264, 0.1275, 0.1265,\n",
              "        0.1253, 0.1268, 0.1266, 0.1258, 0.1264, 0.1261, 0.1271, 0.1258, 0.1269,\n",
              "        0.1267]),\n",
              "indices=tensor([0, 0, 0, 0, 0, 0, 0, 0, 0, 0, 0, 0, 0, 0, 0, 0, 0, 0, 0, 0, 0, 0, 0, 0,\n",
              "        0, 0, 0, 0, 0, 0, 0, 0, 0, 0, 0, 0, 0, 0, 0, 0, 0, 0, 0, 0, 0, 0, 0, 0,\n",
              "        0, 0, 0, 0, 0, 0, 0, 0, 0, 0, 0, 0, 0, 0, 0, 0, 0, 0, 0, 0, 0, 0, 0, 0,\n",
              "        0, 0, 0, 0, 0, 0, 0, 0, 0, 0, 0, 0, 0, 0, 0, 0, 0, 0, 0, 0, 0, 8, 0, 0,\n",
              "        0, 0, 8, 0]))"
            ]
          },
          "metadata": {},
          "execution_count": 110
        }
      ]
    },
    {
      "cell_type": "code",
      "source": [
        "predicted = torch.max(yhat.data, 1)\n",
        "predicted"
      ],
      "metadata": {
        "colab": {
          "base_uri": "https://localhost:8080/"
        },
        "id": "S5t17Mn8rKfd",
        "outputId": "7ad25bd5-c4be-4656-d8c2-293df8af4954"
      },
      "execution_count": null,
      "outputs": [
        {
          "output_type": "execute_result",
          "data": {
            "text/plain": [
              "torch.return_types.max(\n",
              "values=tensor([0.1269, 0.1269, 0.1266, 0.1270, 0.1268, 0.1272, 0.1275, 0.1264, 0.1268,\n",
              "        0.1276, 0.1269, 0.1272, 0.1265, 0.1280, 0.1276, 0.1275, 0.1267, 0.1268,\n",
              "        0.1261, 0.1270, 0.1264, 0.1264, 0.1279, 0.1277, 0.1271, 0.1263, 0.1273,\n",
              "        0.1278, 0.1262, 0.1269, 0.1268, 0.1269, 0.1259, 0.1263, 0.1269, 0.1278,\n",
              "        0.1266, 0.1267, 0.1275, 0.1271, 0.1277, 0.1272, 0.1256, 0.1273, 0.1262,\n",
              "        0.1277, 0.1265, 0.1269, 0.1269, 0.1275, 0.1269, 0.1272, 0.1284, 0.1267,\n",
              "        0.1268, 0.1272, 0.1267, 0.1269, 0.1275, 0.1279, 0.1277, 0.1276, 0.1270,\n",
              "        0.1255, 0.1273, 0.1273, 0.1270, 0.1281, 0.1266, 0.1268, 0.1263, 0.1277,\n",
              "        0.1282, 0.1280, 0.1272, 0.1261, 0.1262, 0.1264, 0.1275, 0.1264, 0.1285,\n",
              "        0.1273, 0.1274, 0.1266, 0.1269, 0.1269, 0.1272, 0.1269, 0.1279, 0.1270,\n",
              "        0.1258, 0.1274, 0.1271, 0.1262, 0.1269, 0.1267, 0.1275, 0.1263, 0.1254,\n",
              "        0.1272]),\n",
              "indices=tensor([0, 0, 0, 0, 0, 0, 0, 0, 0, 0, 0, 0, 0, 0, 0, 0, 0, 0, 0, 0, 0, 0, 0, 0,\n",
              "        0, 0, 0, 0, 0, 0, 0, 0, 0, 0, 0, 0, 0, 0, 0, 0, 0, 0, 0, 0, 0, 0, 0, 0,\n",
              "        0, 0, 0, 0, 0, 0, 0, 0, 0, 0, 0, 0, 0, 0, 0, 0, 0, 0, 0, 0, 0, 0, 0, 0,\n",
              "        0, 0, 0, 0, 0, 0, 0, 0, 0, 0, 0, 0, 0, 0, 0, 0, 0, 0, 0, 0, 0, 0, 0, 0,\n",
              "        0, 0, 8, 0]))"
            ]
          },
          "metadata": {},
          "execution_count": 93
        }
      ]
    },
    {
      "cell_type": "code",
      "source": [
        "predicted.indices == y"
      ],
      "metadata": {
        "colab": {
          "base_uri": "https://localhost:8080/"
        },
        "id": "6Q9WBcSRv3hd",
        "outputId": "68de7a68-2e7f-4176-d9bf-a3a6bf62db34"
      },
      "execution_count": null,
      "outputs": [
        {
          "output_type": "execute_result",
          "data": {
            "text/plain": [
              "tensor([False, False, False, False, False, False, False, False, False, False,\n",
              "        False,  True, False, False, False, False, False,  True, False, False,\n",
              "        False, False, False, False, False, False, False, False, False, False,\n",
              "        False, False, False, False, False, False, False, False, False, False,\n",
              "         True,  True, False, False, False, False, False, False, False, False,\n",
              "        False, False,  True, False, False, False, False, False, False, False,\n",
              "        False, False, False, False, False, False, False, False, False,  True,\n",
              "        False, False, False, False, False, False,  True, False,  True, False,\n",
              "        False, False, False, False, False, False, False, False, False, False,\n",
              "        False, False,  True, False, False, False, False,  True,  True, False])"
            ]
          },
          "metadata": {},
          "execution_count": 96
        }
      ]
    },
    {
      "cell_type": "code",
      "source": [
        "v =((predicted.indices == y).sum()/n ).item()\n",
        "\"Accuracy: {:.4f}\".format(v)"
      ],
      "metadata": {
        "colab": {
          "base_uri": "https://localhost:8080/",
          "height": 35
        },
        "id": "2WtA5-NCxeLo",
        "outputId": "87e1b709-c13d-4820-80f4-686a8d6ae17c"
      },
      "execution_count": null,
      "outputs": [
        {
          "output_type": "execute_result",
          "data": {
            "text/plain": [
              "'Accuracy: 0.1100'"
            ],
            "application/vnd.google.colaboratory.intrinsic+json": {
              "type": "string"
            }
          },
          "metadata": {},
          "execution_count": 109
        }
      ]
    },
    {
      "cell_type": "code",
      "source": [
        "num_B = 1000\n",
        "optimizer.zero_grad()\n",
        "for i in range(num_B):\n",
        "  output = model(x)\n",
        "  loss = cross_entropy(output, y)\n",
        "  optimizer.zero_grad()\n",
        "  loss.backward()\n",
        "  optimizer.step()\n",
        "  predicted = torch.max(yhat.data,1)\n",
        "  v =((predicted.indices == y).sum()/n ).item()\n",
        "  if i%100 == 0:\n",
        "    print (\"Accuracy: {:.4f}\".format(v))"
      ],
      "metadata": {
        "colab": {
          "base_uri": "https://localhost:8080/"
        },
        "id": "HbGy4Q4Avg7R",
        "outputId": "9f90b519-4dac-49e7-ab84-76d414b41f3c"
      },
      "execution_count": null,
      "outputs": [
        {
          "output_type": "stream",
          "name": "stderr",
          "text": [
            "/usr/local/lib/python3.9/dist-packages/torch/nn/modules/container.py:217: UserWarning: Implicit dimension choice for softmax has been deprecated. Change the call to include dim=X as an argument.\n",
            "  input = module(input)\n"
          ]
        },
        {
          "output_type": "stream",
          "name": "stdout",
          "text": [
            "Accuracy: 0.1100\n",
            "Accuracy: 0.1100\n",
            "Accuracy: 0.1100\n",
            "Accuracy: 0.1100\n",
            "Accuracy: 0.1100\n",
            "Accuracy: 0.1100\n",
            "Accuracy: 0.1100\n",
            "Accuracy: 0.1100\n",
            "Accuracy: 0.1100\n",
            "Accuracy: 0.1100\n"
          ]
        }
      ]
    },
    {
      "cell_type": "code",
      "source": [
        "predicted"
      ],
      "metadata": {
        "colab": {
          "base_uri": "https://localhost:8080/"
        },
        "id": "GDc75huc0Iu_",
        "outputId": "f7116025-6e52-4221-b060-40abcea611c8"
      },
      "execution_count": null,
      "outputs": [
        {
          "output_type": "execute_result",
          "data": {
            "text/plain": [
              "torch.return_types.max(\n",
              "values=tensor([0.1554, 0.1521, 0.1591, 0.1587, 0.1509, 0.1559, 0.1439, 0.1580, 0.1535,\n",
              "        0.1517, 0.1494, 0.1541, 0.1646, 0.1458, 0.1553, 0.1543, 0.1581, 0.1469,\n",
              "        0.1638, 0.1565, 0.1569, 0.1579, 0.1510, 0.1539, 0.1523, 0.1567, 0.1506,\n",
              "        0.1492, 0.1595, 0.1564, 0.1536, 0.1566, 0.1622, 0.1617, 0.1554, 0.1566,\n",
              "        0.1571, 0.1556, 0.1482, 0.1516, 0.1436, 0.1602, 0.1626, 0.1528, 0.1604,\n",
              "        0.1484, 0.1595, 0.1546, 0.1576, 0.1520, 0.1556, 0.1501, 0.1536, 0.1579,\n",
              "        0.1526, 0.1519, 0.1569, 0.1562, 0.1543, 0.1427, 0.1459, 0.1533, 0.1547,\n",
              "        0.1614, 0.1495, 0.1511, 0.1525, 0.1439, 0.1609, 0.1594, 0.1559, 0.1482,\n",
              "        0.1506, 0.1476, 0.1564, 0.1645, 0.1544, 0.1570, 0.1525, 0.1536, 0.1493,\n",
              "        0.1555, 0.1528, 0.1557, 0.1497, 0.1553, 0.1491, 0.1491, 0.1506, 0.1565,\n",
              "        0.1660, 0.1592, 0.1642, 0.1604, 0.1549, 0.1575, 0.1487, 0.1610, 0.1701,\n",
              "        0.1517]),\n",
              "indices=tensor([8, 8, 8, 8, 8, 8, 8, 8, 8, 8, 8, 8, 8, 8, 8, 8, 8, 8, 8, 8, 8, 8, 8, 8,\n",
              "        8, 8, 8, 8, 8, 8, 8, 8, 8, 8, 8, 8, 8, 8, 8, 8, 8, 8, 8, 8, 8, 8, 8, 8,\n",
              "        8, 8, 8, 8, 8, 8, 8, 8, 8, 8, 8, 8, 8, 8, 8, 8, 8, 8, 8, 8, 8, 8, 8, 8,\n",
              "        8, 8, 8, 8, 8, 8, 8, 8, 8, 8, 8, 8, 8, 8, 8, 8, 8, 8, 8, 8, 8, 8, 8, 8,\n",
              "        8, 8, 8, 8]))"
            ]
          },
          "metadata": {},
          "execution_count": 122
        }
      ]
    },
    {
      "cell_type": "code",
      "source": [],
      "metadata": {
        "id": "pGzdFU4dzAWN"
      },
      "execution_count": null,
      "outputs": []
    }
  ]
}