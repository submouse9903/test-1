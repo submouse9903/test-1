{
  "nbformat": 4,
  "nbformat_minor": 0,
  "metadata": {
    "colab": {
      "provenance": [],
      "include_colab_link": true
    },
    "kernelspec": {
      "name": "python3",
      "display_name": "Python 3"
    },
    "language_info": {
      "name": "python"
    }
  },
  "cells": [
    {
      "cell_type": "markdown",
      "metadata": {
        "id": "view-in-github",
        "colab_type": "text"
      },
      "source": [
        "<a href=\"https://colab.research.google.com/github/submouse9903/test-1/blob/master/U47768_CH04_layer.ipynb\" target=\"_parent\"><img src=\"https://colab.research.google.com/assets/colab-badge.svg\" alt=\"Open In Colab\"/></a>"
      ]
    },
    {
      "cell_type": "code",
      "execution_count": null,
      "metadata": {
        "id": "Y1LCZylref7F"
      },
      "outputs": [],
      "source": [
        "import torch\n",
        "import torch.nn as nn"
      ]
    },
    {
      "cell_type": "code",
      "source": [
        "torch.manual_seed(1)\n",
        "m = nn.Linear(3, 5)\n",
        "input = torch.randn(4, 3)\n",
        "output = m(input)\n",
        "print(output.size())"
      ],
      "metadata": {
        "colab": {
          "base_uri": "https://localhost:8080/"
        },
        "id": "vGufU1pte0-S",
        "outputId": "390340ac-0afb-4ced-a426-4184f8a56bed"
      },
      "execution_count": null,
      "outputs": [
        {
          "output_type": "stream",
          "name": "stdout",
          "text": [
            "torch.Size([4, 5])\n"
          ]
        }
      ]
    },
    {
      "cell_type": "code",
      "source": [
        "output"
      ],
      "metadata": {
        "colab": {
          "base_uri": "https://localhost:8080/"
        },
        "id": "3HaWCNAMe_xI",
        "outputId": "06ee7215-a096-4839-9efb-1b9a6fa30e14"
      },
      "execution_count": null,
      "outputs": [
        {
          "output_type": "execute_result",
          "data": {
            "text/plain": [
              "tensor([[-0.2807, -0.1942,  0.0709,  0.5529,  0.0128],\n",
              "        [-0.4768, -0.3150,  0.2579,  0.6482, -0.1302],\n",
              "        [ 0.1289, -0.2974, -0.2285,  0.4079,  0.2720],\n",
              "        [-0.7977, -2.5335,  0.9189,  1.0357, -0.5763]],\n",
              "       grad_fn=<AddmmBackward0>)"
            ]
          },
          "metadata": {},
          "execution_count": 3
        }
      ]
    },
    {
      "cell_type": "code",
      "source": [
        "m.weight"
      ],
      "metadata": {
        "colab": {
          "base_uri": "https://localhost:8080/"
        },
        "id": "b1Gqe7KwfAN5",
        "outputId": "1ba13b03-fe02-4e77-bdf5-8089e21b5cec"
      },
      "execution_count": null,
      "outputs": [
        {
          "output_type": "execute_result",
          "data": {
            "text/plain": [
              "Parameter containing:\n",
              "tensor([[ 0.2975, -0.2548, -0.1119],\n",
              "        [ 0.2710, -0.5435,  0.3462],\n",
              "        [-0.1188,  0.2937,  0.0803],\n",
              "        [-0.0707,  0.1601,  0.0285],\n",
              "        [ 0.2109, -0.2250, -0.0421]], requires_grad=True)"
            ]
          },
          "metadata": {},
          "execution_count": 4
        }
      ]
    },
    {
      "cell_type": "code",
      "source": [
        "m.bias"
      ],
      "metadata": {
        "colab": {
          "base_uri": "https://localhost:8080/"
        },
        "id": "fcYp9RHPfrI8",
        "outputId": "0212e196-4dff-4d6b-de82-fc09b3a78f33"
      },
      "execution_count": null,
      "outputs": [
        {
          "output_type": "execute_result",
          "data": {
            "text/plain": [
              "Parameter containing:\n",
              "tensor([-0.0520,  0.0837, -0.0023,  0.5047,  0.1797], requires_grad=True)"
            ]
          },
          "metadata": {},
          "execution_count": 30
        }
      ]
    },
    {
      "cell_type": "code",
      "source": [
        "m.bias + m.weight@input[0]"
      ],
      "metadata": {
        "colab": {
          "base_uri": "https://localhost:8080/"
        },
        "id": "epocBuTJgXmm",
        "outputId": "d890b95a-92db-48cc-9d73-6db699b33f0f"
      },
      "execution_count": null,
      "outputs": [
        {
          "output_type": "execute_result",
          "data": {
            "text/plain": [
              "tensor([-0.4768, -0.3150,  0.2579,  0.6482, -0.1302], grad_fn=<AddBackward0>)"
            ]
          },
          "metadata": {},
          "execution_count": 6
        }
      ]
    },
    {
      "cell_type": "code",
      "source": [
        "p = 3\n",
        "h1_dim = 5\n",
        "out_dim =1"
      ],
      "metadata": {
        "id": "85omdggMsWFw"
      },
      "execution_count": null,
      "outputs": []
    },
    {
      "cell_type": "code",
      "source": [
        "model = nn.Sequential(nn.Linear(p, h1_dim),\n",
        "                      nn.ReLU(),\n",
        "                      nn.Linear(h1_dim, out_dim))\n",
        "print(model)"
      ],
      "metadata": {
        "colab": {
          "base_uri": "https://localhost:8080/"
        },
        "id": "GrU8fRAdgiG8",
        "outputId": "46222a73-ef6f-4999-93fa-b44e8027f586"
      },
      "execution_count": null,
      "outputs": [
        {
          "output_type": "stream",
          "name": "stdout",
          "text": [
            "Sequential(\n",
            "  (0): Linear(in_features=3, out_features=5, bias=True)\n",
            "  (1): ReLU()\n",
            "  (2): Linear(in_features=5, out_features=1, bias=True)\n",
            ")\n"
          ]
        }
      ]
    },
    {
      "cell_type": "code",
      "source": [
        "n = 10\n",
        "x = torch.rand(n, p)\n",
        "model(x)"
      ],
      "metadata": {
        "colab": {
          "base_uri": "https://localhost:8080/"
        },
        "id": "dB0K3T7Dszqe",
        "outputId": "e05f97e4-fd83-4f61-a7a4-82a47d04baf2"
      },
      "execution_count": null,
      "outputs": [
        {
          "output_type": "execute_result",
          "data": {
            "text/plain": [
              "tensor([[0.3960],\n",
              "        [0.3844],\n",
              "        [0.3722],\n",
              "        [0.3854],\n",
              "        [0.3771],\n",
              "        [0.3690],\n",
              "        [0.3840],\n",
              "        [0.3893],\n",
              "        [0.4003],\n",
              "        [0.3872]], grad_fn=<SigmoidBackward0>)"
            ]
          },
          "metadata": {},
          "execution_count": 36
        }
      ]
    },
    {
      "cell_type": "code",
      "source": [
        "for name, param in model.named_parameters():\n",
        "  print(name)\n",
        "  print(param)"
      ],
      "metadata": {
        "colab": {
          "base_uri": "https://localhost:8080/"
        },
        "id": "lhmZnIRDtIe1",
        "outputId": "fdb2701a-7ce7-4da2-f69c-4133662344ce"
      },
      "execution_count": null,
      "outputs": [
        {
          "output_type": "stream",
          "name": "stdout",
          "text": [
            "0.weight\n",
            "Parameter containing:\n",
            "tensor([[-0.3042,  0.2968, -0.3065],\n",
            "        [ 0.1698, -0.1667, -0.0633],\n",
            "        [-0.5551, -0.2753,  0.3133],\n",
            "        [-0.1403,  0.5751,  0.4628],\n",
            "        [-0.0270, -0.3854,  0.3516]], requires_grad=True)\n",
            "0.bias\n",
            "Parameter containing:\n",
            "tensor([ 0.1792, -0.3732,  0.3750,  0.3505,  0.5120], requires_grad=True)\n",
            "2.weight\n",
            "Parameter containing:\n",
            "tensor([[-0.2507, -0.0736, -0.0087,  0.0653, -0.3394]], requires_grad=True)\n",
            "2.bias\n",
            "Parameter containing:\n",
            "tensor([-0.3174], requires_grad=True)\n"
          ]
        }
      ]
    },
    {
      "cell_type": "code",
      "source": [
        "# K-class classfication model\n",
        "p=50\n",
        "h1_dim = 20\n",
        "h2_dim = 20\n",
        "h3_dim = 20\n",
        "out_dim = 10\n",
        "\n",
        "\n",
        "model = nn.Sequential(nn.Linear(p, h1_dim),\n",
        "                      nn.ReLU(),\n",
        "                      nn.Linear(h1_dim, h2_dim),\n",
        "                      nn.ReLU(),\n",
        "                      nn.Linear(h2_dim, h3_dim),\n",
        "                      nn.ReLU(),\n",
        "                      nn.Linear(h3_dim, out_dim),\n",
        "                      nn.Softmax(),\n",
        "                      )\n",
        "print(model)"
      ],
      "metadata": {
        "colab": {
          "base_uri": "https://localhost:8080/"
        },
        "id": "_V5vlmQwtK15",
        "outputId": "19234678-8f67-4f58-ca98-4da1333c4d94"
      },
      "execution_count": null,
      "outputs": [
        {
          "output_type": "stream",
          "name": "stdout",
          "text": [
            "Sequential(\n",
            "  (0): Linear(in_features=50, out_features=20, bias=True)\n",
            "  (1): ReLU()\n",
            "  (2): Linear(in_features=20, out_features=20, bias=True)\n",
            "  (3): ReLU()\n",
            "  (4): Linear(in_features=20, out_features=20, bias=True)\n",
            "  (5): ReLU()\n",
            "  (6): Linear(in_features=20, out_features=10, bias=True)\n",
            "  (7): Softmax(dim=None)\n",
            ")\n"
          ]
        }
      ]
    },
    {
      "cell_type": "code",
      "source": [
        "n = 100\n",
        "x = torch.rand(n,p)\n",
        "model(x)[:5,:]"
      ],
      "metadata": {
        "colab": {
          "base_uri": "https://localhost:8080/"
        },
        "id": "ljjbR5R2u2hb",
        "outputId": "4ace3b38-be59-4564-c6a7-e1ad58b1290f"
      },
      "execution_count": null,
      "outputs": [
        {
          "output_type": "stream",
          "name": "stderr",
          "text": [
            "/usr/local/lib/python3.9/dist-packages/torch/nn/modules/container.py:217: UserWarning: Implicit dimension choice for softmax has been deprecated. Change the call to include dim=X as an argument.\n",
            "  input = module(input)\n"
          ]
        },
        {
          "output_type": "execute_result",
          "data": {
            "text/plain": [
              "tensor([[0.0763, 0.0999, 0.0998, 0.0793, 0.0838, 0.1149, 0.0983, 0.1243, 0.1152,\n",
              "         0.1081],\n",
              "        [0.0793, 0.1009, 0.1005, 0.0786, 0.0848, 0.1136, 0.0986, 0.1229, 0.1151,\n",
              "         0.1059],\n",
              "        [0.0794, 0.0991, 0.1000, 0.0797, 0.0848, 0.1160, 0.0979, 0.1197, 0.1174,\n",
              "         0.1060],\n",
              "        [0.0782, 0.1005, 0.0999, 0.0789, 0.0842, 0.1157, 0.0986, 0.1216, 0.1158,\n",
              "         0.1066],\n",
              "        [0.0790, 0.0992, 0.1010, 0.0794, 0.0860, 0.1166, 0.0968, 0.1204, 0.1140,\n",
              "         0.1075]], grad_fn=<SliceBackward0>)"
            ]
          },
          "metadata": {},
          "execution_count": 102
        }
      ]
    },
    {
      "cell_type": "code",
      "source": [
        "yhat = model(x)\n",
        "yhat.shape"
      ],
      "metadata": {
        "colab": {
          "base_uri": "https://localhost:8080/"
        },
        "id": "Ab-K0CTexH2v",
        "outputId": "2c1bbe8c-a8e8-43a3-d685-d46b3306dfc7"
      },
      "execution_count": null,
      "outputs": [
        {
          "output_type": "stream",
          "name": "stderr",
          "text": [
            "/usr/local/lib/python3.9/dist-packages/torch/nn/modules/container.py:217: UserWarning: Implicit dimension choice for softmax has been deprecated. Change the call to include dim=X as an argument.\n",
            "  input = module(input)\n"
          ]
        },
        {
          "output_type": "execute_result",
          "data": {
            "text/plain": [
              "torch.Size([100, 10])"
            ]
          },
          "metadata": {},
          "execution_count": 104
        }
      ]
    },
    {
      "cell_type": "code",
      "source": [
        "torch.manual_seed(1)\n",
        "torch.randint(0,out_dim,(n,))"
      ],
      "metadata": {
        "colab": {
          "base_uri": "https://localhost:8080/"
        },
        "id": "C9rBzea_vG0i",
        "outputId": "7a26a976-0b3a-4f85-8c6f-834d1afa7555"
      },
      "execution_count": null,
      "outputs": [
        {
          "output_type": "execute_result",
          "data": {
            "text/plain": [
              "tensor([5, 9, 4, 8, 3, 3, 1, 1, 9, 2, 8, 9, 6, 3, 3, 0, 2, 1, 2, 6, 0, 3, 6, 4,\n",
              "        3, 6, 4, 2, 9, 4, 8, 6, 7, 3, 7, 3, 3, 6, 2, 0, 5, 9, 5, 3, 3, 5, 8, 9,\n",
              "        1, 4, 4, 5, 8, 0, 1, 3, 1, 4, 7, 8, 6, 9, 9, 8, 3, 3, 1, 7, 2, 8, 9, 3,\n",
              "        0, 2, 2, 8, 5, 9, 9, 0, 1, 2, 2, 5, 5, 0, 9, 1, 6, 9, 0, 8, 7, 7, 3, 2,\n",
              "        7, 7, 2, 7])"
            ]
          },
          "metadata": {},
          "execution_count": 105
        }
      ]
    },
    {
      "cell_type": "code",
      "source": [
        "torch.manual_seed(1)\n",
        "y = torch.randint(0,out_dim,(n,))\n",
        "nn.functional.one_hot(y,10)[:5,:]"
      ],
      "metadata": {
        "colab": {
          "base_uri": "https://localhost:8080/"
        },
        "id": "ZE7aQocHvukN",
        "outputId": "adc49676-693b-41f5-8383-6459400e31ad"
      },
      "execution_count": null,
      "outputs": [
        {
          "output_type": "execute_result",
          "data": {
            "text/plain": [
              "tensor([[0, 0, 0, 0, 0, 1, 0, 0, 0, 0],\n",
              "        [0, 0, 0, 0, 0, 0, 0, 0, 0, 1],\n",
              "        [0, 0, 0, 0, 1, 0, 0, 0, 0, 0],\n",
              "        [0, 0, 0, 0, 0, 0, 0, 0, 1, 0],\n",
              "        [0, 0, 0, 1, 0, 0, 0, 0, 0, 0]])"
            ]
          },
          "metadata": {},
          "execution_count": 106
        }
      ]
    },
    {
      "cell_type": "code",
      "source": [
        "y = nn.functional.one_hot(y,out_dim)\n",
        "y.shape"
      ],
      "metadata": {
        "colab": {
          "base_uri": "https://localhost:8080/"
        },
        "id": "2lQc9XKZwz3O",
        "outputId": "8b3b311a-77d1-4551-b422-fc65bc81c19f"
      },
      "execution_count": null,
      "outputs": [
        {
          "output_type": "execute_result",
          "data": {
            "text/plain": [
              "torch.Size([100, 10])"
            ]
          },
          "metadata": {},
          "execution_count": 107
        }
      ]
    },
    {
      "cell_type": "code",
      "source": [
        "yhat[0,:]"
      ],
      "metadata": {
        "colab": {
          "base_uri": "https://localhost:8080/"
        },
        "id": "gGevac9Gw86L",
        "outputId": "fd911eae-d7d4-41b2-9361-0d91b31aaaa0"
      },
      "execution_count": null,
      "outputs": [
        {
          "output_type": "execute_result",
          "data": {
            "text/plain": [
              "tensor([0.0763, 0.0999, 0.0998, 0.0793, 0.0838, 0.1149, 0.0983, 0.1243, 0.1152,\n",
              "        0.1081], grad_fn=<SliceBackward0>)"
            ]
          },
          "metadata": {},
          "execution_count": 108
        }
      ]
    },
    {
      "cell_type": "code",
      "source": [
        "y[0,:]"
      ],
      "metadata": {
        "colab": {
          "base_uri": "https://localhost:8080/"
        },
        "id": "K_ZF-JCrxRAm",
        "outputId": "4605e985-ecaf-4b19-cc99-a4d2fb820fd9"
      },
      "execution_count": null,
      "outputs": [
        {
          "output_type": "execute_result",
          "data": {
            "text/plain": [
              "tensor([0, 0, 0, 0, 0, 1, 0, 0, 0, 0])"
            ]
          },
          "metadata": {},
          "execution_count": 109
        }
      ]
    },
    {
      "cell_type": "code",
      "source": [
        "y[0,:]*torch.log(yhat[0,:])"
      ],
      "metadata": {
        "colab": {
          "base_uri": "https://localhost:8080/"
        },
        "id": "0L-rzNlaxSw-",
        "outputId": "2b6fee8c-fc92-402a-96e8-08ba72c2a184"
      },
      "execution_count": null,
      "outputs": [
        {
          "output_type": "execute_result",
          "data": {
            "text/plain": [
              "tensor([-0.0000, -0.0000, -0.0000, -0.0000, -0.0000, -2.1636, -0.0000, -0.0000,\n",
              "        -0.0000, -0.0000], grad_fn=<MulBackward0>)"
            ]
          },
          "metadata": {},
          "execution_count": 110
        }
      ]
    },
    {
      "cell_type": "code",
      "source": [
        "torch.sum(-y[0,:]*torch.log(yhat[0,:]))"
      ],
      "metadata": {
        "colab": {
          "base_uri": "https://localhost:8080/"
        },
        "id": "xnSApZcmxY5H",
        "outputId": "851708ad-e693-4aab-f719-1708cfb5dcf1"
      },
      "execution_count": null,
      "outputs": [
        {
          "output_type": "execute_result",
          "data": {
            "text/plain": [
              "tensor(2.1636, grad_fn=<SumBackward0>)"
            ]
          },
          "metadata": {},
          "execution_count": 111
        }
      ]
    },
    {
      "cell_type": "code",
      "source": [
        "torch.manual_seed(1)\n",
        "y = torch.randint(0,out_dim,(n,))\n",
        "cross_entropy_loss = nn.CrossEntropyLoss()\n",
        "loss_value = cross_entropy_loss(yhat, y)\n",
        "print(loss_value)"
      ],
      "metadata": {
        "colab": {
          "base_uri": "https://localhost:8080/"
        },
        "id": "xkEf2m5OxuRH",
        "outputId": "41085a78-b267-4be2-dc69-6ba1a4304f12"
      },
      "execution_count": null,
      "outputs": [
        {
          "output_type": "stream",
          "name": "stdout",
          "text": [
            "tensor(2.3036, grad_fn=<NllLossBackward0>)\n"
          ]
        }
      ]
    }
  ]
}